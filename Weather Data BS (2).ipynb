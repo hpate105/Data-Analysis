{
 "cells": [
  {
   "cell_type": "code",
   "execution_count": 1,
   "metadata": {},
   "outputs": [
    {
     "data": {
      "text/plain": [
       "<Response [200]>"
      ]
     },
     "execution_count": 1,
     "metadata": {},
     "output_type": "execute_result"
    }
   ],
   "source": [
    "import requests\n",
    "page = requests.get(\"https://dataquestio.github.io/web-scraping-pages/simple.html\")\n",
    "page"
   ]
  },
  {
   "cell_type": "code",
   "execution_count": 2,
   "metadata": {},
   "outputs": [
    {
     "data": {
      "text/plain": [
       "b'<!DOCTYPE html>\\n<html>\\n    <head>\\n        <title>A simple example page</title>\\n    </head>\\n    <body>\\n        <p>Here is some simple content for this page.</p>\\n    </body>\\n</html>'"
      ]
     },
     "execution_count": 2,
     "metadata": {},
     "output_type": "execute_result"
    }
   ],
   "source": [
    "page.content"
   ]
  },
  {
   "cell_type": "code",
   "execution_count": 3,
   "metadata": {},
   "outputs": [],
   "source": [
    "from bs4 import BeautifulSoup\n",
    "soup = BeautifulSoup(page.content, 'html.parser')"
   ]
  },
  {
   "cell_type": "code",
   "execution_count": 4,
   "metadata": {},
   "outputs": [
    {
     "name": "stdout",
     "output_type": "stream",
     "text": [
      "<!DOCTYPE html>\n",
      "<html>\n",
      " <head>\n",
      "  <title>\n",
      "   A simple example page\n",
      "  </title>\n",
      " </head>\n",
      " <body>\n",
      "  <p>\n",
      "   Here is some simple content for this page.\n",
      "  </p>\n",
      " </body>\n",
      "</html>\n"
     ]
    }
   ],
   "source": [
    "print(soup.prettify())"
   ]
  },
  {
   "cell_type": "code",
   "execution_count": 5,
   "metadata": {},
   "outputs": [
    {
     "data": {
      "text/plain": [
       "['html',\n",
       " '\\n',\n",
       " <html>\n",
       " <head>\n",
       " <title>A simple example page</title>\n",
       " </head>\n",
       " <body>\n",
       " <p>Here is some simple content for this page.</p>\n",
       " </body>\n",
       " </html>]"
      ]
     },
     "execution_count": 5,
     "metadata": {},
     "output_type": "execute_result"
    }
   ],
   "source": [
    "list(soup.children)"
   ]
  },
  {
   "cell_type": "code",
   "execution_count": 6,
   "metadata": {},
   "outputs": [
    {
     "data": {
      "text/plain": [
       "[bs4.element.Doctype, bs4.element.NavigableString, bs4.element.Tag]"
      ]
     },
     "execution_count": 6,
     "metadata": {},
     "output_type": "execute_result"
    }
   ],
   "source": [
    "[type(item) for item in list(soup.children)]"
   ]
  },
  {
   "cell_type": "code",
   "execution_count": 9,
   "metadata": {},
   "outputs": [
    {
     "name": "stdout",
     "output_type": "stream",
     "text": [
      "<html>\n",
      "<head>\n",
      "<title>A simple example page</title>\n",
      "</head>\n",
      "<body>\n",
      "<p>Here is some simple content for this page.</p>\n",
      "</body>\n",
      "</html>\n"
     ]
    }
   ],
   "source": [
    "html = list(soup.children)[2]\n",
    "print(html)"
   ]
  },
  {
   "cell_type": "code",
   "execution_count": 10,
   "metadata": {},
   "outputs": [
    {
     "data": {
      "text/plain": [
       "['\\n',\n",
       " <head>\n",
       " <title>A simple example page</title>\n",
       " </head>,\n",
       " '\\n',\n",
       " <body>\n",
       " <p>Here is some simple content for this page.</p>\n",
       " </body>,\n",
       " '\\n']"
      ]
     },
     "execution_count": 10,
     "metadata": {},
     "output_type": "execute_result"
    }
   ],
   "source": [
    "list(html.children)\n"
   ]
  },
  {
   "cell_type": "code",
   "execution_count": 12,
   "metadata": {},
   "outputs": [
    {
     "name": "stdout",
     "output_type": "stream",
     "text": [
      "<body>\n",
      "<p>Here is some simple content for this page.</p>\n",
      "</body>\n"
     ]
    }
   ],
   "source": [
    "body = list(html.children)[3]\n",
    "print(body)"
   ]
  },
  {
   "cell_type": "code",
   "execution_count": 13,
   "metadata": {},
   "outputs": [
    {
     "data": {
      "text/plain": [
       "['\\n', <p>Here is some simple content for this page.</p>, '\\n']"
      ]
     },
     "execution_count": 13,
     "metadata": {},
     "output_type": "execute_result"
    }
   ],
   "source": [
    "list(body.children)"
   ]
  },
  {
   "cell_type": "code",
   "execution_count": 15,
   "metadata": {},
   "outputs": [
    {
     "name": "stdout",
     "output_type": "stream",
     "text": [
      "<p>Here is some simple content for this page.</p>\n"
     ]
    }
   ],
   "source": [
    "p = list(body.children)[1]\n",
    "print(p)"
   ]
  },
  {
   "cell_type": "code",
   "execution_count": 16,
   "metadata": {},
   "outputs": [
    {
     "data": {
      "text/plain": [
       "'Here is some simple content for this page.'"
      ]
     },
     "execution_count": 16,
     "metadata": {},
     "output_type": "execute_result"
    }
   ],
   "source": [
    "p.get_text()"
   ]
  },
  {
   "cell_type": "code",
   "execution_count": 17,
   "metadata": {},
   "outputs": [
    {
     "data": {
      "text/plain": [
       "[<p>Here is some simple content for this page.</p>]"
      ]
     },
     "execution_count": 17,
     "metadata": {},
     "output_type": "execute_result"
    }
   ],
   "source": [
    "soup.find_all('p')"
   ]
  },
  {
   "cell_type": "code",
   "execution_count": 18,
   "metadata": {},
   "outputs": [
    {
     "data": {
      "text/plain": [
       "<html>\n",
       "<head>\n",
       "<title>A simple example page</title>\n",
       "</head>\n",
       "<body>\n",
       "<div>\n",
       "<p class=\"inner-text first-item\" id=\"first\">\n",
       "                First paragraph.\n",
       "            </p>\n",
       "<p class=\"inner-text\">\n",
       "                Second paragraph.\n",
       "            </p>\n",
       "</div>\n",
       "<p class=\"outer-text first-item\" id=\"second\">\n",
       "<b>\n",
       "                First outer paragraph.\n",
       "            </b>\n",
       "</p>\n",
       "<p class=\"outer-text\">\n",
       "<b>\n",
       "                Second outer paragraph.\n",
       "            </b>\n",
       "</p>\n",
       "</body>\n",
       "</html>"
      ]
     },
     "execution_count": 18,
     "metadata": {},
     "output_type": "execute_result"
    }
   ],
   "source": [
    "page = requests.get(\"https://dataquestio.github.io/web-scraping-pages/ids_and_classes.html\")\n",
    "soup = BeautifulSoup(page.content, 'html.parser')\n",
    "soup"
   ]
  },
  {
   "cell_type": "code",
   "execution_count": 19,
   "metadata": {},
   "outputs": [
    {
     "data": {
      "text/plain": [
       "[<p class=\"outer-text first-item\" id=\"second\">\n",
       " <b>\n",
       "                 First outer paragraph.\n",
       "             </b>\n",
       " </p>,\n",
       " <p class=\"outer-text\">\n",
       " <b>\n",
       "                 Second outer paragraph.\n",
       "             </b>\n",
       " </p>]"
      ]
     },
     "execution_count": 19,
     "metadata": {},
     "output_type": "execute_result"
    }
   ],
   "source": [
    "soup.find_all('p', class_='outer-text')"
   ]
  },
  {
   "cell_type": "code",
   "execution_count": 20,
   "metadata": {},
   "outputs": [
    {
     "data": {
      "text/plain": [
       "[<p class=\"outer-text first-item\" id=\"second\">\n",
       " <b>\n",
       "                 First outer paragraph.\n",
       "             </b>\n",
       " </p>,\n",
       " <p class=\"outer-text\">\n",
       " <b>\n",
       "                 Second outer paragraph.\n",
       "             </b>\n",
       " </p>]"
      ]
     },
     "execution_count": 20,
     "metadata": {},
     "output_type": "execute_result"
    }
   ],
   "source": [
    "soup.find_all(class_=\"outer-text\")"
   ]
  },
  {
   "cell_type": "code",
   "execution_count": 21,
   "metadata": {},
   "outputs": [
    {
     "data": {
      "text/plain": [
       "[<p class=\"inner-text first-item\" id=\"first\">\n",
       "                 First paragraph.\n",
       "             </p>]"
      ]
     },
     "execution_count": 21,
     "metadata": {},
     "output_type": "execute_result"
    }
   ],
   "source": [
    "soup.find_all(id=\"first\")"
   ]
  },
  {
   "cell_type": "code",
   "execution_count": 22,
   "metadata": {},
   "outputs": [
    {
     "data": {
      "text/plain": [
       "[<p class=\"inner-text first-item\" id=\"first\">\n",
       "                 First paragraph.\n",
       "             </p>,\n",
       " <p class=\"inner-text\">\n",
       "                 Second paragraph.\n",
       "             </p>]"
      ]
     },
     "execution_count": 22,
     "metadata": {},
     "output_type": "execute_result"
    }
   ],
   "source": [
    "soup.select(\"div p\")"
   ]
  },
  {
   "cell_type": "raw",
   "metadata": {},
   "source": [
    "# Weather DATA"
   ]
  },
  {
   "cell_type": "code",
   "execution_count": 43,
   "metadata": {},
   "outputs": [],
   "source": [
    "page = requests.get(\"https://forecast.weather.gov/MapClick.php?lat=35.2229&lon=-80.838#.YV8Ge0bMKLs\")\n",
    "soup = BeautifulSoup(page.content, 'html.parser')"
   ]
  },
  {
   "cell_type": "code",
   "execution_count": 44,
   "metadata": {},
   "outputs": [
    {
     "name": "stdout",
     "output_type": "stream",
     "text": [
      "<!DOCTYPE html>\n",
      "\n",
      "<html class=\"no-js\">\n",
      "<head>\n",
      "<!-- Meta -->\n",
      "<meta content=\"width=device-width\" name=\"viewport\"/>\n",
      "<link href=\"http://purl.org/dc/elements/1.1/\" rel=\"schema.DC\"/><title>National Weather Service</title><meta content=\"National Weather Service\" name=\"DC.title\"><meta content=\"NOAA National Weather Service National Weather Service\" name=\"DC.description\"/><meta content=\"US Department of Commerce, NOAA, National Weather Service\" name=\"DC.creator\"/><meta content=\"\" name=\"DC.date.created\" scheme=\"ISO8601\"/><meta content=\"EN-US\" name=\"DC.language\" scheme=\"DCTERMS.RFC1766\"/><meta content=\"weather, National Weather Service\" name=\"DC.keywords\"/><meta content=\"NOAA's National Weather Service\" name=\"DC.publisher\"/><meta content=\"National Weather Service\" name=\"DC.contributor\"/><meta content=\"http://www.weather.gov/disclaimer.php\" name=\"DC.rights\"/><meta content=\"General\" name=\"rating\"/><meta content=\"index,follow\" name=\"robots\"/>\n",
      "<!-- Icons -->\n",
      "<link href=\"./images/favicon.ico\" rel=\"shortcut icon\" type=\"image/x-icon\"/>\n",
      "<!-- CSS -->\n",
      "<link href=\"css/bootstrap-3.2.0.min.css\" rel=\"stylesheet\"/>\n",
      "<link href=\"css/bootstrap-theme-3.2.0.min.css\" rel=\"stylesheet\"/>\n",
      "<link href=\"css/font-awesome-4.3.0.min.css\" rel=\"stylesheet\"/>\n",
      "<link href=\"css/ol-4.6.4.css\" rel=\"stylesheet\" type=\"text/css\"/>\n",
      "<link href=\"css/mapclick.css\" rel=\"stylesheet\" type=\"text/css\">\n",
      "<!--[if lte IE 7]><link rel=\"stylesheet\" type=\"text/css\" href=\"css/bootstrap-ie7.css\" /><![endif]-->\n",
      "<!--[if lte IE 9]><link rel=\"stylesheet\" type=\"text/css\" href=\"css/mapclick-ie.css\" /><![endif]-->\n",
      "<link href=\"css/print.css\" rel=\"stylesheet\" type=\"text/css\">\n",
      "<link href=\"css/search.css\" rel=\"stylesheet\" type=\"text/css\">\n",
      "<!-- Javascript -->\n",
      "<script src=\"js/lib/modernizr-2.8.3.js\" type=\"text/javascript\"></script>\n",
      "<script src=\"js/lib/json3-3.3.2.min.js\" type=\"text/javascript\"></script>\n",
      "<script src=\"js/lib/jquery-1.11.3.min.js\" type=\"text/javascript\"></script>\n",
      "<script src=\"js/lib/jquery.hoverIntent-1.8.1.min.js\" type=\"text/javascript\"></script>\n",
      "<script src=\"js/lib/bootstrap-3.2.0.min.js\" type=\"text/javascript\"></script>\n",
      "<script src=\"js/lib/ol-4.6.4.js\" type=\"text/javascript\"></script>\n",
      "<!--[if lte IE 8]><script type=\"text/javascript\" src=\"js/respond.min.js\"></script><![endif]-->\n",
      "<script src=\"js/jquery.autocomplete.min.js\" type=\"text/javascript\"></script>\n",
      "<script src=\"js/cfisurvey/cfi.js?v2\" type=\"text/javascript\"></script>\n",
      "<script src=\"js/forecast.esri.js\" type=\"text/javascript\"></script>\n",
      "<script src=\"js/forecast.search.js\" type=\"text/javascript\"></script>\n",
      "<script src=\"js/forecast.openlayers.js\" type=\"text/javascript\"></script>\n",
      "<script src=\"js/browserSniffer.js\" type=\"text/javascript\"></script>\n",
      "<script id=\"_fed_an_ua_tag\" src=\"https://dap.digitalgov.gov/Universal-Federated-Analytics-Min.js?agency=DOC&amp;subagency=NOAA\" type=\"text/javascript\"></script>\n",
      "<script type=\"text/javascript\">\n",
      "            // GoogleAnalyticsObject is defined in the federated analytics script, but PUA option not used as forecast UA needs sampleRate\n",
      "            window[window['GoogleAnalyticsObject']]('create', 'UA-40768555-1', 'weather.gov', {'sampleRate': 6});\n",
      "            window[window['GoogleAnalyticsObject']]('set', 'anonymizeIp', true);\n",
      "            window[window['GoogleAnalyticsObject']]('require', 'linkid');\n",
      "            window[window['GoogleAnalyticsObject']]('send', 'pageview');\n",
      "        </script>\n",
      "<script type=\"javascript\">\n",
      "// ForeSee Staging Embed Script v2.01\n",
      "// DO NOT MODIFY BELOW THIS LINE *****************************************\n",
      ";(function (g) {\n",
      "  var d = document, am = d.createElement('script'), h = d.head || d.getElementsByTagName(\"head\")[0], fsr = 'fsReady',\n",
      "  aex = { \n",
      "    \"src\": \"//gateway.foresee.com/sites/weather-gov/production/gateway.min.js\",\n",
      "    \"type\": \"text/javascript\", \n",
      "    \"async\": \"true\", \n",
      "    \"data-vendor\": \"fs\", \n",
      "    \"data-role\": \"gateway\" \n",
      "  };\n",
      "  for (var attr in aex) { am.setAttribute(attr, aex[attr]); } h.appendChild(am); g[fsr] || (g[fsr] = function () { var aT = '__' + fsr + '_stk__'; g[aT] = g[aT] || []; g[aT].push(arguments); });\n",
      "})(window);\n",
      "// DO NOT MODIFY ABOVE THIS LINE *****************************************\n",
      "</script>\n",
      "</link></link></link></meta></head>\n",
      "<body>\n",
      "<main class=\"container\">\n",
      "<header class=\"row clearfix\" id=\"page-header\">\n",
      "<a class=\"pull-left\" href=\"http://www.noaa.gov\" id=\"header-noaa\"><img alt=\"National Oceanic and Atmospheric Administration\" src=\"/css/images/header_noaa.png\"/></a>\n",
      "<a class=\"pull-left\" href=\"http://www.weather.gov\" id=\"header-nws\"><img alt=\"National Weather Service\" src=\"/css/images/header_nws.png\"/></a>\n",
      "<a class=\"pull-right\" href=\"http://www.commerce.gov\" id=\"header-doc\"><img alt=\"United States Department of Commerce\" src=\"/css/images/header_doc.png\"/></a>\n",
      "</header>\n",
      "<nav class=\"navbar navbar-default row\" role=\"navigation\">\n",
      "<div class=\"container-fluid\">\n",
      "<div class=\"navbar-header\">\n",
      "<button class=\"navbar-toggle collapsed\" data-target=\"#top-nav\" data-toggle=\"collapse\" type=\"button\">\n",
      "<span class=\"sr-only\">Toggle navigation</span>\n",
      "<span class=\"icon-bar\"></span>\n",
      "<span class=\"icon-bar\"></span>\n",
      "<span class=\"icon-bar\"></span>\n",
      "</button>\n",
      "</div>\n",
      "<div class=\"collapse navbar-collapse\" id=\"top-nav\">\n",
      "<ul class=\"nav navbar-nav\">\n",
      "<li><a href=\"http://www.weather.gov\">HOME</a></li>\n",
      "<li class=\"dropdown\"><a class=\"dropdown-toggle\" data-toggle=\"dropdown\" href=\"http://www.weather.gov/forecastmaps\">FORECAST <span class=\"caret\"></span></a><ul class=\"dropdown-menu\" role=\"menu\"><li><a href=\"http://www.weather.gov\">Local</a></li><li><a href=\"http://digital.weather.gov\">Graphical</a></li><li><a href=\"http://www.aviationweather.gov/\">Aviation</a></li><li><a href=\"http://www.weather.gov/marine\">Marine</a></li><li><a href=\"http://water.weather.gov/ahps/\">Rivers and Lakes</a></li><li><a href=\"http://www.nhc.noaa.gov/\">Hurricanes</a></li><li><a href=\"http://www.spc.noaa.gov/\">Severe Weather</a></li><li><a href=\"http://www.weather.gov/fire/\">Fire Weather</a></li><li><a href=\"https://www.esrl.noaa.gov/gmd/grad/solcalc/sunrise.html\">Sun/Moon</a></li><li><a href=\"http://www.cpc.ncep.noaa.gov/\">Long Range Forecasts</a></li><li><a href=\"http://www.cpc.ncep.noaa.gov\">Climate Prediction</a></li><li><a href=\"https://www.swpc.noaa.gov/\">Space Weather</a></li></ul> </li>\n",
      "<li class=\"dropdown\"><a class=\"dropdown-toggle\" data-toggle=\"dropdown\" href=\"https://www.weather.gov/wrh/climate/\">PAST WEATHER <span class=\"caret\"></span></a><ul class=\"dropdown-menu\" role=\"menu\"><li><a href=\"https://www.weather.gov/wrh/climate/\">Past Weather</a></li><li><a href=\"https://www.weather.gov/wrh/climate/\">Heating/Cooling Days</a></li><li><a href=\"https://www.weather.gov/wrh/climate/\">Monthly Temperatures</a></li><li><a href=\"https://www.weather.gov/wrh/climate/\">Records</a></li><li><a href=\"http://aa.usno.navy.mil/\">Astronomical Data</a></li></ul> </li>\n",
      "<li class=\"dropdown\"><a class=\"dropdown-toggle\" data-toggle=\"dropdown\" href=\"http://www.weather.gov/safety\">SAFETY <span class=\"caret\"></span></a><ul class=\"dropdown-menu\" role=\"menu\"><li><a href=\"https://www.weather.gov/safety/tsunami\">Tsunamis</a></li><li><a href=\"https://www.weather.gov/safety/flood\">Floods</a></li><li><a href=\"https://www.weather.gov/safety/beachhazards\">Beach Hazards</a></li><li><a href=\"https://www.weather.gov/safety/wildfire\">Wildfire</a></li><li><a href=\"https://www.weather.gov/safety/cold\">Cold</a></li><li><a href=\"https://www.weather.gov/safety/tornado\">Tornadoes</a></li><li><a href=\"https://www.weather.gov/safety/airquality\">Air Quality</a></li><li><a href=\"https://www.weather.gov/safety/fog\">Fog</a></li><li><a href=\"https://www.weather.gov/safety/heat\">Heat</a></li><li><a href=\"https://www.weather.gov/safety/hurricane\">Hurricanes</a></li><li><a href=\"https://www.weather.gov/safety/lightning\">Lightning</a></li><li><a href=\"https://www.weather.gov/safety/safeboating\">Safe Boating</a></li><li><a href=\"https://www.weather.gov/safety/ripcurrent\">Rip Currents</a></li><li><a href=\"https://www.weather.gov/safety/thunderstorm\">Thunderstorms</a></li><li><a href=\"https://www.weather.gov/safety/space\">Space Weather</a></li><li><a href=\"https://www.weather.gov/safety/heat-uv\">Sun (Ultraviolet Radiation)</a></li><li><a href=\"http://www.weather.gov/safetycampaign\">Safety Campaigns</a></li><li><a href=\"https://www.weather.gov/safety/wind\">Wind</a></li><li><a href=\"https://www.weather.gov/safety/drought\">Drought</a></li><li><a href=\"https://www.weather.gov/safety/winter\">Winter Weather</a></li></ul> </li>\n",
      "<li class=\"dropdown\"><a class=\"dropdown-toggle\" data-toggle=\"dropdown\" href=\"http://www.weather.gov/informationcenter\">INFORMATION <span class=\"caret\"></span></a><ul class=\"dropdown-menu\" role=\"menu\"><li><a href=\"http://www.weather.gov/Owlie's\">Owlie's Kids Page</a></li><li><a href=\"http://www.weather.gov/wrn/wea\">Wireless Emergency Alerts</a></li><li><a href=\"https://www.weather.gov/owlie/publication_brochures\">Brochures</a></li><li><a href=\"http://www.weather.gov/wrn/\">Weather-Ready Nation</a></li><li><a href=\"https://www.weather.gov/coop/\">Cooperative Observers</a></li><li><a href=\"http://www.weather.gov/briefing/\">Daily Briefing</a></li><li><a href=\"http://www.nws.noaa.gov/om/hazstats.shtml\">Damage/Fatality/Injury Statistics</a></li><li><a href=\"http://mag.ncep.noaa.gov/\">Forecast Models</a></li><li><a href=\"https://www.weather.gov/gis\">GIS Data Portal</a></li><li><a href=\"https://www.weather.gov/nwr/\">NOAA Weather Radio</a></li><li><a href=\"http://weather.gov/publications\">Publications</a></li><li><a href=\"http://www.weather.gov/SKYWARN\">SKYWARN Storm Spotters</a></li><li><a href=\"http://www.weather.gov/StormReady\">StormReady</a></li><li><a href=\"https://www.weather.gov/TsunamiReady/\">TsunamiReady</a></li><li><a href=\"https://www.weather.gov/notification/\">Service Change Notices</a></li></ul> </li>\n",
      "<li class=\"dropdown\"><a class=\"dropdown-toggle\" data-toggle=\"dropdown\" href=\"http://www.weather.gov/education\">EDUCATION <span class=\"caret\"></span></a><ul class=\"dropdown-menu\" role=\"menu\"><li><a href=\"https://www.weather.gov/wrn/force\">Be A Force of Nature</a></li><li><a href=\"http://www.weather.gov/owlie\">NWS Education Home</a></li></ul> </li>\n",
      "<li class=\"dropdown\"><a class=\"dropdown-toggle\" data-toggle=\"dropdown\" href=\"http://www.weather.gov/news/\">NEWS <span class=\"caret\"></span></a><ul class=\"dropdown-menu\" role=\"menu\"><li><a href=\"http://www.weather.gov/news\">NWS News</a></li><li><a href=\"https://www.weather.gov/wrn/calendar\">Events</a></li><li><a href=\"http://www.weather.gov/socialmedia\">Social Media</a></li><li><a href=\"https://www.weather.gov/owlie/publication_brochures\">Pubs/Brochures/Booklets </a></li><li><a href=\"http://www.noaa.gov/NOAA-Communications\">NWS Media Contacts</a></li></ul> </li>\n",
      "<li class=\"dropdown\"><a class=\"dropdown-toggle\" data-toggle=\"dropdown\" href=\"http://www.weather.gov/search\">SEARCH <span class=\"caret\"></span></a><ul class=\"dropdown-menu\" role=\"menu\"> <li><!-- Begin search code -->\n",
      "<div id=\"site-search\">\n",
      "<form action=\"//search.usa.gov/search\" method=\"get\" style=\"margin-bottom: 0; margin-top: 0;\">\n",
      "<input name=\"v:project\" type=\"hidden\" value=\"firstgov\"/>\n",
      "<label for=\"query\">Search For</label>\n",
      "<input id=\"query\" name=\"query\" size=\"12\" type=\"text\"/>\n",
      "<input type=\"submit\" value=\"Go\"/>\n",
      "<p>\n",
      "<input checked=\"checked\" id=\"nws\" name=\"affiliate\" type=\"radio\" value=\"nws.noaa.gov\"/>\n",
      "<label class=\"search-scope\" for=\"nws\">NWS</label>\n",
      "<input id=\"noaa\" name=\"affiliate\" type=\"radio\" value=\"noaa.gov\"/>\n",
      "<label class=\"search-scope\" for=\"noaa\">All NOAA</label>\n",
      "</p>\n",
      "</form>\n",
      "</div>\n",
      "</li>\n",
      "</ul> </li>\n",
      "<li class=\"dropdown\"><a class=\"dropdown-toggle\" data-toggle=\"dropdown\" href=\"http://www.weather.gov/about\">ABOUT <span class=\"caret\"></span></a><ul class=\"dropdown-menu\" role=\"menu\"><li><a href=\"http://www.weather.gov/about\">About NWS</a></li><li><a href=\"http://www.weather.gov/organization\">Organization</a></li><li><a href=\"https://www.weather.gov/media/wrn/NWS_Weather-Ready-Nation_Strategic_Plan_2019-2022.pdf\">Strategic Plan</a></li><li><a href=\"https://sites.google.com/a/noaa.gov/nws-insider/\">For NWS Employees</a></li><li><a href=\"http://www.weather.gov/international/\">International</a></li><li><a href=\"http://www.weather.gov/organization\">National Centers</a></li><li><a href=\"http://www.weather.gov/careers/\">Careers</a></li><li><a href=\"http://www.weather.gov/contact\">Contact Us</a></li><li><a href=\"https://w1.weather.gov/glossary\">Glossary</a></li></ul> </li>\n",
      "</ul>\n",
      "</div>\n",
      "</div>\n",
      "</nav>\n",
      "<div class=\"contentArea\">\n",
      "<!-- Start Forecastsearch -->\n",
      "<div class=\"\" id=\"fcst-search\">\n",
      "<form action=\"https://forecast.weather.gov/zipcity.php\" class=\"form-inline\" id=\"getForecast\" method=\"get\" name=\"getForecast\" role=\"form\">\n",
      "<div id=\"getfcst-body\">\n",
      "<input class=\"form-control\" id=\"inputstring\" name=\"inputstring\" placeholder=\"\" type=\"text\"/>\n",
      "<input class=\"btn btn-default\" id=\"btnSearch\" name=\"btnSearch\" type=\"submit\" value=\"Go\"/>\n",
      "<div id=\"txtHelp\"><a href=\"javascript:void(window.open('http://weather.gov/ForecastSearchHelp.html','locsearchhelp','status=0,toolbar=0,location=0,menubar=0,directories=0,resizable=1,scrollbars=1,height=500,width=530').focus());\">View Location Examples</a></div>\n",
      "</div>\n",
      "<div id=\"txtError\">\n",
      "<div id=\"errorNoResults\" style=\"display:none;\">Sorry, the location you searched for was not found. Please try another search.</div>\n",
      "<div id=\"errorMultipleResults\" style=\"display:none\">Multiple locations were found. Please select one of the following:</div>\n",
      "<div id=\"errorChoices\" style=\"display:none\"></div>\n",
      "<input id=\"btnCloseError\" style=\"display:none\" type=\"button\" value=\"Close\"/>\n",
      "</div>\n",
      "<div id=\"getfcst-head\">\n",
      "<p>Your local forecast office is</p>\n",
      "<h3 id=\"getfcst-headOffice\"></h3>\n",
      "</div>\n",
      "</form>\n",
      "</div>\n",
      "<!-- end Forecastsearch -->\n",
      "<link href=\"/css/topnews.css\" rel=\"stylesheet\" type=\"text/css\"/>\n",
      "<div id=\"news-items\">\n",
      "<div id=\"topnews\">\n",
      "<div class=\"icon\"><img src=\"/images/news-important.jpg\"/></div>\n",
      "<div class=\"body\">\n",
      "<h1 style=\"font-size: 11pt;\">Flash Flood Threat for Southern Appalachians; Very Active Weather Pattern for West</h1>\n",
      "<p>\n",
      "            Organized areas of heavy rainfall may result in flash flooding across the southern Appalachians from northeastern Georgia into upstate South Carolina and western North Carolina today. Meanwhile, a cold front progressing through the West will start a very active and unsettled week for the region as much below normal temperatures and snowfall for parts of the Rockies are expected.\n",
      "            <a href=\"http://www.wpc.ncep.noaa.gov/discussions/hpcdiscussions.php?disc=pmdspd\" target=\"_blank\">Read More &gt;</a>\n",
      "</p>\n",
      "</div>\n",
      "</div>\n",
      "</div>\n",
      "<script type=\"text/javascript\">(function ($) { var topnews = $(\"#topnews\"); topnews.hide(); $.get(\"siteNews.php\", {a:\"gsp\"},function(response){ if (response !== \"false\") topnews.replaceWith($(response)); topnews.show(); }); })(jQuery);</script><!-- PageFormat-Land -->\n",
      "<script language=\"javascript\">document.title = '7-Day Forecast 35.23N 80.84W';</script><img src=\"images/track_land_point.png\" style=\"display:none;\"><div class=\"panel panel-danger\"><div class=\"panel-heading\"><h3 class=\"panel-title\">Hazardous Weather Conditions</h3></div><div class=\"panel-body\"><ul><li><a class=\"anchor-hazards\" href=\"showsigwx.php?warnzone=NCZ071&amp;warncounty=NCC119&amp;firewxzone=NCZ071&amp;local_place1=2 Miles N Charlotte NC&amp;product1=Hazardous+Weather+Outlook&amp;lat=35.2229&amp;lon=-80.838\" id=\"hazard-NCZ071-Hazardous+Weather+Outlook-0\">Hazardous Weather Outlook </a></li></ul></div></div>\n",
      "<div id=\"quickLinks\">\n",
      "<span class=\"lang-spanish\"><a href=\"//forecast.weather.gov/MapClick.php?lat=35.2229&amp;lon=-80.838&amp;lg=sp\">En Español</a></span>\n",
      "<div class=\"addthis_toolbox addthis_default_style addthis-forecast\">\n",
      "<a class=\"addthis_button_compact\" href=\"//www.addthis.com/bookmark.php?v=250&amp;pubid=ra-5127a6364d551d04\">Share</a>\n",
      "<span class=\"addthis_separator\">|</span>\n",
      "<a class=\"addthis_button_preferred_1\"></a>\n",
      "<a class=\"addthis_button_preferred_2\"></a>\n",
      "<a class=\"addthis_button_preferred_3\"></a>\n",
      "<a class=\"addthis_button_preferred_4\"></a>\n",
      "<a class=\"addthis_button_preferred_5\"></a>\n",
      "</div>\n",
      "<script type=\"text/javascript\">\n",
      "\t\tvar addthis_config = addthis_config || {data_track_addressbar:true, pubid: 'xa-4b05b2d91f18c9cc'};\n",
      "\t    $(document).ready(function(){\n",
      "\t\t\tjQuery.ajax({\n",
      "\t\t\t\turl: \"//s7.addthis.com/js/300/addthis_widget.js#async=1\",\n",
      "\t\t\t\tdataType: \"script\",\n",
      "\t\t\t\tcache: false\n",
      "\t\t\t});\n",
      "\t    });\n",
      "\t</script>\n",
      "</div>\n",
      "<!-- Current Conditions -->\n",
      "<div class=\"panel panel-default\" id=\"current-conditions\">\n",
      "<!-- Current Conditions header row -->\n",
      "<div class=\"panel-heading\">\n",
      "<div>\n",
      "<b>Current conditions at</b>\n",
      "<h2 class=\"panel-title\">Charlotte, Charlotte / Douglas International Airport (KCLT)</h2>\n",
      "<span class=\"smallTxt\"><b>Lat: </b>35.21°N<b>Lon: </b>80.95°W<b>Elev: </b>748ft.</span>\n",
      "</div>\n",
      "</div>\n",
      "<div class=\"panel-body\" id=\"current-conditions-body\">\n",
      "<!-- Graphic and temperatures -->\n",
      "<div class=\"pull-left\" id=\"current_conditions-summary\">\n",
      "<img alt=\"\" class=\"pull-left\" src=\"newimages/large/ovc.png\"/>\n",
      "<p class=\"myforecast-current\">Overcast</p>\n",
      "<p class=\"myforecast-current-lrg\">71°F</p>\n",
      "<p class=\"myforecast-current-sm\">22°C</p>\n",
      "</div>\n",
      "<div class=\"pull-left\" id=\"current_conditions_detail\">\n",
      "<table>\n",
      "<tr>\n",
      "<td class=\"text-right\"><b>Humidity</b></td>\n",
      "<td>84%</td>\n",
      "</tr>\n",
      "<tr>\n",
      "<td class=\"text-right\"><b>Wind Speed</b></td>\n",
      "<td>E 12 G 22 mph</td>\n",
      "</tr>\n",
      "<tr>\n",
      "<td class=\"text-right\"><b>Barometer</b></td>\n",
      "<td>30.23 in (1022.8 mb)</td>\n",
      "</tr>\n",
      "<tr>\n",
      "<td class=\"text-right\"><b>Dewpoint</b></td>\n",
      "<td>66°F (19°C)</td>\n",
      "</tr>\n",
      "<tr>\n",
      "<td class=\"text-right\"><b>Visibility</b></td>\n",
      "<td>10.00 mi</td>\n",
      "</tr>\n",
      "<tr>\n",
      "<td class=\"text-right\"><b>Last update</b></td>\n",
      "<td>\n",
      "                7 Oct 9:52 am EDT            </td>\n",
      "</tr>\n",
      "</table>\n",
      "</div>\n",
      "<div id=\"current_conditions_station\">\n",
      "<div class=\"current-conditions-extra\">\n",
      "<!-- Right hand section -->\n",
      "<p class=\"moreInfo\"><b>More Information:</b></p><p><a href=\"https://www.weather.gov/gsp/\" id=\"localWFO\" title=\"Greenville-Spartanburg, SC\"><span class=\"hideText\">Local</span> Forecast Office</a><a href=\"obslocal.php?warnzone=NCZ071&amp;local_place=2 Miles N Charlotte NC&amp;zoneid=EDT&amp;offset=14400\" id=\"moreWx\">More Local Wx</a><a href=\"//www.weather.gov/data/obhistory/KCLT.html\" id=\"3dayHist\">3 Day History</a><a href=\"//mobile.weather.gov/index.php?lat=35.2229&amp;lon=-80.838&amp;unit=0&amp;lg=english\" id=\"mobileWxLink\">Mobile Weather</a><a href=\"MapClick.php?lat=35.2229&amp;lon=-80.838&amp;unit=0&amp;lg=english&amp;FcstType=graphical\" id=\"wxGraph\">Hourly <span class=\"hideText\">Weather </span>Forecast</a></p> </div>\n",
      "<!-- /current_conditions_station -->\n",
      "</div>\n",
      "<!-- /current-conditions-body -->\n",
      "</div>\n",
      "<!-- /Current Conditions -->\n",
      "</div>\n",
      "<!-- 7-Day Forecast -->\n",
      "<div class=\"panel panel-default\" id=\"seven-day-forecast\">\n",
      "<div class=\"panel-heading\">\n",
      "<b>Extended Forecast for</b>\n",
      "<h2 class=\"panel-title\">\n",
      "\t    \t    2 Miles N Charlotte NC\t</h2>\n",
      "</div>\n",
      "<div class=\"panel-body\" id=\"seven-day-forecast-body\">\n",
      "<div id=\"seven-day-forecast-container\"><ul class=\"list-unstyled\" id=\"seven-day-forecast-list\"><li class=\"forecast-tombstone\">\n",
      "<div class=\"tombstone-container\">\n",
      "<p class=\"period-name\">Today<br/><br/></p>\n",
      "<p><img alt=\"Today: Scattered showers, with thunderstorms also possible after noon.  Cloudy, with a high near 76. Northeast wind around 8 mph.  Chance of precipitation is 50%. New rainfall amounts between a quarter and half of an inch possible. \" class=\"forecast-icon\" src=\"DualImage.php?i=shra&amp;j=tsra&amp;ip=50&amp;jp=50\" title=\"Today: Scattered showers, with thunderstorms also possible after noon.  Cloudy, with a high near 76. Northeast wind around 8 mph.  Chance of precipitation is 50%. New rainfall amounts between a quarter and half of an inch possible. \"/></p><p class=\"short-desc\">Scattered<br/>Showers then<br/>Scattered<br/>T-storms</p><p class=\"temp temp-high\">High: 76 °F</p></div></li><li class=\"forecast-tombstone\">\n",
      "<div class=\"tombstone-container\">\n",
      "<p class=\"period-name\">Tonight<br/><br/></p>\n",
      "<p><img alt=\"Tonight: A chance of showers and thunderstorms.  Patchy fog after 4am.  Otherwise, mostly cloudy, with a low around 66. Northeast wind 3 to 6 mph.  Chance of precipitation is 40%. New precipitation amounts between a quarter and half of an inch possible. \" class=\"forecast-icon\" src=\"DualImage.php?i=ntsra&amp;j=nshra&amp;ip=40&amp;jp=40\" title=\"Tonight: A chance of showers and thunderstorms.  Patchy fog after 4am.  Otherwise, mostly cloudy, with a low around 66. Northeast wind 3 to 6 mph.  Chance of precipitation is 40%. New precipitation amounts between a quarter and half of an inch possible. \"/></p><p class=\"short-desc\">Chance<br/>T-storms then<br/>Chance<br/>Showers and<br/>Patchy Fog</p><p class=\"temp temp-low\">Low: 66 °F</p></div></li><li class=\"forecast-tombstone\">\n",
      "<div class=\"tombstone-container\">\n",
      "<p class=\"period-name\">Friday<br/><br/></p>\n",
      "<p><img alt=\"Friday: Showers likely, with thunderstorms also possible after noon.  Patchy fog before 10am.  Otherwise, mostly cloudy, with a high near 76. East northeast wind 3 to 5 mph.  Chance of precipitation is 70%. New rainfall amounts of less than a tenth of an inch, except higher amounts possible in thunderstorms. \" class=\"forecast-icon\" src=\"newimages/medium/shra70.png\" title=\"Friday: Showers likely, with thunderstorms also possible after noon.  Patchy fog before 10am.  Otherwise, mostly cloudy, with a high near 76. East northeast wind 3 to 5 mph.  Chance of precipitation is 70%. New rainfall amounts of less than a tenth of an inch, except higher amounts possible in thunderstorms. \"/></p><p class=\"short-desc\">Showers<br/>Likely and<br/>Patchy Fog</p><p class=\"temp temp-high\">High: 76 °F</p></div></li><li class=\"forecast-tombstone\">\n",
      "<div class=\"tombstone-container\">\n",
      "<p class=\"period-name\">Friday<br/>Night</p>\n",
      "<p><img alt=\"Friday Night: A 50 percent chance of showers and thunderstorms.  Mostly cloudy, with a low around 64. North northeast wind 3 to 5 mph.  New rainfall amounts between a tenth and quarter of an inch, except higher amounts possible in thunderstorms. \" class=\"forecast-icon\" src=\"newimages/medium/ntsra50.png\" title=\"Friday Night: A 50 percent chance of showers and thunderstorms.  Mostly cloudy, with a low around 64. North northeast wind 3 to 5 mph.  New rainfall amounts between a tenth and quarter of an inch, except higher amounts possible in thunderstorms. \"/></p><p class=\"short-desc\">Chance<br/>T-storms</p><p class=\"temp temp-low\">Low: 64 °F</p></div></li><li class=\"forecast-tombstone\">\n",
      "<div class=\"tombstone-container\">\n",
      "<p class=\"period-name\">Saturday<br/><br/></p>\n",
      "<p><img alt=\"Saturday: A 40 percent chance of showers and thunderstorms.  Partly sunny, with a high near 75. Northeast wind around 6 mph. \" class=\"forecast-icon\" src=\"newimages/medium/scttsra40.png\" title=\"Saturday: A 40 percent chance of showers and thunderstorms.  Partly sunny, with a high near 75. Northeast wind around 6 mph. \"/></p><p class=\"short-desc\">Chance<br/>T-storms</p><p class=\"temp temp-high\">High: 75 °F</p></div></li><li class=\"forecast-tombstone\">\n",
      "<div class=\"tombstone-container\">\n",
      "<p class=\"period-name\">Saturday<br/>Night</p>\n",
      "<p><img alt=\"Saturday Night: A 20 percent chance of showers before 9pm.  Partly cloudy, with a low around 62.\" class=\"forecast-icon\" src=\"DualImage.php?i=hi_nshwrs&amp;j=nsct&amp;ip=20\" title=\"Saturday Night: A 20 percent chance of showers before 9pm.  Partly cloudy, with a low around 62.\"/></p><p class=\"short-desc\">Slight Chance<br/>Showers then<br/>Partly Cloudy</p><p class=\"temp temp-low\">Low: 62 °F</p></div></li><li class=\"forecast-tombstone\">\n",
      "<div class=\"tombstone-container\">\n",
      "<p class=\"period-name\">Sunday<br/><br/></p>\n",
      "<p><img alt=\"Sunday: Mostly sunny, with a high near 77.\" class=\"forecast-icon\" src=\"newimages/medium/sct.png\" title=\"Sunday: Mostly sunny, with a high near 77.\"/></p><p class=\"short-desc\">Mostly Sunny</p><p class=\"temp temp-high\">High: 77 °F</p></div></li><li class=\"forecast-tombstone\">\n",
      "<div class=\"tombstone-container\">\n",
      "<p class=\"period-name\">Sunday<br/>Night</p>\n",
      "<p><img alt=\"Sunday Night: Mostly clear, with a low around 61.\" class=\"forecast-icon\" src=\"newimages/medium/nfew.png\" title=\"Sunday Night: Mostly clear, with a low around 61.\"/></p><p class=\"short-desc\">Mostly Clear</p><p class=\"temp temp-low\">Low: 61 °F</p></div></li><li class=\"forecast-tombstone\">\n",
      "<div class=\"tombstone-container\">\n",
      "<p class=\"period-name\">Columbus<br/>Day</p>\n",
      "<p><img alt=\"Columbus Day: Mostly sunny, with a high near 79.\" class=\"forecast-icon\" src=\"newimages/medium/sct.png\" title=\"Columbus Day: Mostly sunny, with a high near 79.\"/></p><p class=\"short-desc\">Mostly Sunny</p><p class=\"temp temp-high\">High: 79 °F</p></div></li></ul></div>\n",
      "<script type=\"text/javascript\">\n",
      "// equalize forecast heights\n",
      "$(function () {\n",
      "\tvar maxh = 0;\n",
      "\t$(\".forecast-tombstone .short-desc\").each(function () {\n",
      "\t\tvar h = $(this).height();\n",
      "\t\tif (h > maxh) { maxh = h; }\n",
      "\t});\n",
      "\t$(\".forecast-tombstone .short-desc\").height(maxh);\n",
      "});\n",
      "</script> </div>\n",
      "</div>\n",
      "<!-- Everything between 7-Day Forecast and Footer goes in this row -->\n",
      "<div class=\"row\" id=\"floatingDivs\">\n",
      "<!-- Everything on the left-hand side -->\n",
      "<div class=\"col-md-7 col-lg-8\">\n",
      "<!-- Detailed Forecast -->\n",
      "<div class=\"panel panel-default\" id=\"detailed-forecast\">\n",
      "<div class=\"panel-heading\">\n",
      "<h2 class=\"panel-title\">Detailed Forecast</h2>\n",
      "</div>\n",
      "<div class=\"panel-body\" id=\"detailed-forecast-body\">\n",
      "<div class=\"row row-odd row-forecast\"><div class=\"col-sm-2 forecast-label\"><b>Today</b></div><div class=\"col-sm-10 forecast-text\">Scattered showers, with thunderstorms also possible after noon.  Cloudy, with a high near 76. Northeast wind around 8 mph.  Chance of precipitation is 50%. New rainfall amounts between a quarter and half of an inch possible. </div></div><div class=\"row row-even row-forecast\"><div class=\"col-sm-2 forecast-label\"><b>Tonight</b></div><div class=\"col-sm-10 forecast-text\">A chance of showers and thunderstorms.  Patchy fog after 4am.  Otherwise, mostly cloudy, with a low around 66. Northeast wind 3 to 6 mph.  Chance of precipitation is 40%. New precipitation amounts between a quarter and half of an inch possible. </div></div><div class=\"row row-odd row-forecast\"><div class=\"col-sm-2 forecast-label\"><b>Friday</b></div><div class=\"col-sm-10 forecast-text\">Showers likely, with thunderstorms also possible after noon.  Patchy fog before 10am.  Otherwise, mostly cloudy, with a high near 76. East northeast wind 3 to 5 mph.  Chance of precipitation is 70%. New rainfall amounts of less than a tenth of an inch, except higher amounts possible in thunderstorms. </div></div><div class=\"row row-even row-forecast\"><div class=\"col-sm-2 forecast-label\"><b>Friday Night</b></div><div class=\"col-sm-10 forecast-text\">A 50 percent chance of showers and thunderstorms.  Mostly cloudy, with a low around 64. North northeast wind 3 to 5 mph.  New rainfall amounts between a tenth and quarter of an inch, except higher amounts possible in thunderstorms. </div></div><div class=\"row row-odd row-forecast\"><div class=\"col-sm-2 forecast-label\"><b>Saturday</b></div><div class=\"col-sm-10 forecast-text\">A 40 percent chance of showers and thunderstorms.  Partly sunny, with a high near 75. Northeast wind around 6 mph. </div></div><div class=\"row row-even row-forecast\"><div class=\"col-sm-2 forecast-label\"><b>Saturday Night</b></div><div class=\"col-sm-10 forecast-text\">A 20 percent chance of showers before 9pm.  Partly cloudy, with a low around 62.</div></div><div class=\"row row-odd row-forecast\"><div class=\"col-sm-2 forecast-label\"><b>Sunday</b></div><div class=\"col-sm-10 forecast-text\">Mostly sunny, with a high near 77.</div></div><div class=\"row row-even row-forecast\"><div class=\"col-sm-2 forecast-label\"><b>Sunday Night</b></div><div class=\"col-sm-10 forecast-text\">Mostly clear, with a low around 61.</div></div><div class=\"row row-odd row-forecast\"><div class=\"col-sm-2 forecast-label\"><b>Columbus Day</b></div><div class=\"col-sm-10 forecast-text\">Mostly sunny, with a high near 79.</div></div><div class=\"row row-even row-forecast\"><div class=\"col-sm-2 forecast-label\"><b>Monday Night</b></div><div class=\"col-sm-10 forecast-text\">Partly cloudy, with a low around 62.</div></div><div class=\"row row-odd row-forecast\"><div class=\"col-sm-2 forecast-label\"><b>Tuesday</b></div><div class=\"col-sm-10 forecast-text\">Mostly sunny, with a high near 82.</div></div><div class=\"row row-even row-forecast\"><div class=\"col-sm-2 forecast-label\"><b>Tuesday Night</b></div><div class=\"col-sm-10 forecast-text\">Mostly clear, with a low around 63.</div></div><div class=\"row row-odd row-forecast\"><div class=\"col-sm-2 forecast-label\"><b>Wednesday</b></div><div class=\"col-sm-10 forecast-text\">Sunny, with a high near 83.</div></div> </div>\n",
      "</div>\n",
      "<!-- /Detailed Forecast -->\n",
      "<!-- Additional Forecasts and Information -->\n",
      "<div class=\"panel panel-default\" id=\"additional_forecasts\">\n",
      "<div class=\"panel-heading\">\n",
      "<h2 class=\"panel-title\">Additional Forecasts and Information</h2>\n",
      "</div>\n",
      "<div class=\"panel-body\" id=\"additional-forecasts-body\">\n",
      "<p class=\"myforecast-location\"><a href=\"MapClick.php?zoneid=NCZ071\">Zone Area Forecast for Mecklenburg County, NC</a></p>\n",
      "<!-- First nine-ten links -->\n",
      "<div id=\"linkBlockContainer\">\n",
      "<div class=\"linkBlock\">\n",
      "<ul class=\"list-unstyled\">\n",
      "<li><a href=\"//forecast.weather.gov/product.php?site=GSP&amp;issuedby=GSP&amp;product=AFD&amp;format=CI&amp;version=1&amp;glossary=1&amp;highlight=off\">Forecast Discussion</a></li>\n",
      "<li><a href=\"MapClick.php?lat=35.2229&amp;lon=-80.838&amp;unit=0&amp;lg=english&amp;FcstType=text&amp;TextType=2\">Printable Forecast</a></li>\n",
      "<li><a href=\"MapClick.php?lat=35.2229&amp;lon=-80.838&amp;unit=0&amp;lg=english&amp;FcstType=text&amp;TextType=1\">Text Only Forecast</a></li>\n",
      "</ul>\n",
      "</div>\n",
      "<div class=\"linkBlock\">\n",
      "<ul class=\"list-unstyled\">\n",
      "<li><a href=\"MapClick.php?lat=35.2229&amp;lon=-80.838&amp;unit=0&amp;lg=english&amp;FcstType=graphical\">Hourly Weather Forecast</a></li>\n",
      "<li><a href=\"MapClick.php?lat=35.2229&amp;lon=-80.838&amp;unit=0&amp;lg=english&amp;FcstType=digital\">Tabular Forecast</a></li>\n",
      "<!-- <li><a href=\"afm/PointClick.php?lat=35.2229&lon=-80.838\">Quick Forecast</a></li> -->\n",
      "</ul>\n",
      "</div>\n",
      "<div class=\"linkBlock\">\n",
      "<ul class=\"list-unstyled\">\n",
      "<li><a href=\"//weather.gov/aq/probe_aq_data.php?latitude=35.2229&amp;longitude=-80.838\">Air Quality Forecasts</a></li>\n",
      "<li><a href=\"MapClick.php?lat=35.2229&amp;lon=-80.838&amp;FcstType=text&amp;unit=1&amp;lg=en\">International System of Units</a></li>\n",
      "</ul>\n",
      "</div>\n",
      "<!-- /First nine-ten links -->\n",
      "<!-- Additional links -->\n",
      "<div class=\"linkBlock\"><ul class=\"list-unstyled\"><li><a href=\"https://forecast.weather.gov/product.php?site=NWS&amp;issuedby=GSP&amp;product=HWO\" target=\"_self\">Hazardous Weather</a></li><li><a href=\"https://www.wpc.ncep.noaa.gov/html/sfc2.shtml\" target=\"_self\">Regional Weather Conditions</a></li><li><a href=\"https://w2.weather.gov/climate/index.php?wfo=gsp\" target=\"_self\">Past Weather Information</a></li></ul></div><div class=\"linkBlock\"><ul class=\"list-unstyled\"><li><a href=\"https://www.weather.gov/gsp/mountain\" target=\"_self\">Mountain Point Forecast </a></li><li><a href=\"https://www.weather.gov/gsp/lakes\" target=\"_self\">Lake Forecast </a></li><li><a href=\"https://www.weather.gov/gsp/lcldata\" target=\"_self\">Local Research </a></li></ul></div><div class=\"linkBlock\"><ul class=\"list-unstyled\"><li><a href=\"https://www.weather.gov/gsp/\" target=\"_self\">Home</a></li></ul></div>\n",
      "</div> <!-- /linkBlockContainer -->\n",
      "</div><!-- /additional-forecasts-body-->\n",
      "</div> <!-- /additional_forecasts -->\n",
      "</div> <!-- /Everything on the left-hand side -->\n",
      "<!-- right-side-data -->\n",
      "<div class=\"col-md-5 col-lg-4\" id=\"right-side-data\">\n",
      "<div id=\"mapAndDescriptionArea\">\n",
      "<!-- openlayer map -->\n",
      "<style>\n",
      "#custom-search{\n",
      "display: block;\n",
      "position: relative;\n",
      "z-index: 50;\n",
      "top: 52px;\n",
      "left: 60px;\n",
      "}\n",
      "#esri-geocoder-search{\n",
      "display: block;\n",
      "position: relative;\n",
      "z-index: 50;\n",
      "top: 52px;\n",
      "left: 60px;\n",
      "}\n",
      "#emap{\n",
      "margin-top:15px;\n",
      "cursor:pointer;\n",
      "height:370px;\n",
      "width:100%;\n",
      "border: 1px solid #ccc;\n",
      "border-radius: 3px;\n",
      "}\n",
      "#switch-basemap-container{\n",
      "}\n",
      "#basemap-selection-form ul{\n",
      "list-style: none;\n",
      " margin: 0px;\n",
      "}\n",
      "#basemap-selection-form li{\n",
      "float: left;\n",
      "}\n",
      ".disclaimer{\n",
      "margin-top:350px;\n",
      "margin-left: 5px;\n",
      "z-index: 100;\n",
      "position: absolute;\n",
      "text-transform: none;\n",
      "}\n",
      ".esriAttributionLastItem{\n",
      "text-transform: none;\n",
      "}\n",
      ".esriSimpleSlider div{\n",
      "height:22px;\n",
      "line-height:20px;\n",
      "width:20px;\n",
      "}\n",
      "#point-forecast-map-label {\n",
      "text-align:center;\n",
      "font-weight:bold;\n",
      "color:black;\n",
      "}\n",
      "@media (max-width: 767px) {\n",
      "#emap{\n",
      "margin-top:.5em;\n",
      "height:270px;\n",
      "}\n",
      ".disclaimer{\n",
      "margin-top:250px;\n",
      "}\n",
      "}\n",
      "</style>\n",
      "<!-- forecast-map -->\n",
      "<div class=\"point-forecast-map\">\n",
      "<div class=\"point-forecast-map-header text-center\">\n",
      "<div id=\"toolbar\">\n",
      "<div id=\"switch-basemap-container\">\n",
      "<div id=\"basemap-selection-form\" title=\"Choose a Basemap\">\n",
      "<div id=\"basemap-menu\">\n",
      "<select autocomplete=\"off\" id=\"basemap-selected\" name=\"basemap-selected\" title=\"Basemap Dropdown Menu\">\n",
      "<option value=\"none\">Select Basemap</option>\n",
      "<option selected=\"\" value=\"topo\">Topographic</option>\n",
      "<option value=\"streets\">Streets</option>\n",
      "<option value=\"satellite\">Satellite</option>\n",
      "<option value=\"ocean\">Ocean</option>\n",
      "</select>\n",
      "</div>\n",
      "</div>\n",
      "<div id=\"point-forecast-map-label\">\n",
      "                    Click Map For Forecast\n",
      "                </div>\n",
      "</div><!-- //#switch-basemap-container -->\n",
      "<div style=\"clear:both;\"></div>\n",
      "</div><!-- //#toolbar -->\n",
      "</div><!-- //.point-forecast-map-header -->\n",
      "<div id=\"emap\">\n",
      "<noscript><center><br/><br/><b>Map function requires Javascript and a compatible browser.</b></center></noscript>\n",
      "<div class=\"disclaimer\"><a href=\"http://www.weather.gov/disclaimer#esri\">Disclaimer</a></div>\n",
      "</div><!-- //#emap -->\n",
      "<div class=\"point-forecast-map-footer\">\n",
      "<img alt=\"Map Legend\" height=\"16\" src=\"./images/wtf/maplegend_forecast-area.gif\" width=\"100\"/>\n",
      "</div><!-- //.point-forecast-map-footer -->\n",
      "</div> <!-- //.point-forecast-map -->\n",
      "<!-- //forecast-map -->\n",
      "<!-- //openlayer map -->\n",
      "<!-- About this Forecast -->\n",
      "<div id=\"about_forecast\">\n",
      "<div class=\"fullRow\">\n",
      "<div class=\"left\">Point Forecast:</div>\n",
      "<div class=\"right\">2 Miles N Charlotte NC<br/> 35.23°N 80.84°W (Elev. 725 ft)</div>\n",
      "</div>\n",
      "<div class=\"fullRow\">\n",
      "<div class=\"left\"><a href=\"//www.weather.gov/glossary/index.php?word=Last+update\" target=\"_blank\">Last Update</a>: </div>\n",
      "<div class=\"right\">6:40 am EDT Oct 7, 2021</div>\n",
      "</div>\n",
      "<div class=\"fullRow\">\n",
      "<div class=\"left\"><a href=\"//www.weather.gov/glossary/index.php?word=forecast+valid+for\" target=\"_blank\">Forecast Valid</a>: </div>\n",
      "<div class=\"right\">10am EDT Oct 7, 2021-6pm EDT Oct 13, 2021</div>\n",
      "</div>\n",
      "<div class=\"fullRow\">\n",
      "<div class=\"left\"> </div>\n",
      "<div class=\"right\"><a href=\"https://forecast.weather.gov/product.php?site=GSP&amp;issuedby=GSP&amp;product=AFD&amp;format=CI&amp;version=1&amp;glossary=1\">Forecast Discussion</a></div>\n",
      "</div>\n",
      "<div class=\"fullRow\">\n",
      "<div class=\"left\"> </div>\n",
      "<div class=\"right\">\n",
      "<a href=\"MapClick.php?lat=35.2229&amp;lon=-80.838&amp;unit=0&amp;lg=english&amp;FcstType=kml\"><img alt=\"Get as KML\" height=\"17\" src=\"/images/wtf/kml_badge.png\" width=\"45\"/></a>\n",
      "<a href=\"MapClick.php?lat=35.2229&amp;lon=-80.838&amp;unit=0&amp;lg=english&amp;FcstType=dwml\"><img alt=\"Get as XML\" height=\"17\" src=\"/images/wtf/xml_badge.png\" width=\"45\"/></a>\n",
      "</div>\n",
      "</div>\n",
      "</div>\n",
      "<!-- /About this Forecast -->\n",
      "</div>\n",
      "<!--additionalForecast-->\n",
      "<div class=\"panel panel-default\" id=\"additionalForecast\">\n",
      "<div class=\"panel-heading\">\n",
      "<h2 class=\"panel-title\">Additional Resources</h2>\n",
      "</div>\n",
      "<div class=\"panel-body\">\n",
      "<!-- Radar & Satellite Images -->\n",
      "<div class=\"subItem\" id=\"radar\">\n",
      "<h4>Radar &amp; Satellite Image</h4>\n",
      "<a href=\"https://radar.weather.gov/?settings=v1_eyJhZ2VuZGEiOnsiaWQiOiJsb2NhbCIsImNlbnRlciI6Wy04Mi4yMiwzNC44ODNdLCJ6b29tIjo3LCJmaWx0ZXIiOiJXU1ItODhEIiwibGF5ZXIiOiJjcmVmIiwic3RhdGlvbiI6IktHU1AiLCJ0cmFuc3BhcmVudCI6dHJ1ZSwiYWxlcnRzT3ZlcmxheSI6dHJ1ZSwic3RhdGlvbkljb25zT3ZlcmxheSI6dHJ1ZX0sImJhc2UiOiJzdGFuZGFyZCIsImNvdW50eSI6ZmFsc2UsImN3YSI6ZmFsc2UsInN0YXRlIjpmYWxzZSwibWVudSI6dHJ1ZSwic2hvcnRGdXNlZE9ubHkiOnRydWV9#/\"><img alt=\"Link to Local Radar Data\" class=\"radar-thumb\" src=\"//radar.weather.gov/ridge/lite/KGSP_0.gif\" title=\"Link to Local Radar Data\"/></a> <a href=\"https://www.star.nesdis.noaa.gov/GOES/GOES16_CONUS.php\"><img alt=\"Link to Satellite Data\" class=\"satellite-thumb\" src=\"https://cdn.star.nesdis.noaa.gov/GOES16/ABI/CONUS/GEOCOLOR/625x375.jpg\" title=\"Link to Satellite Data\"/></a> </div>\n",
      "<!-- /Radar & Satellite Images -->\n",
      "<!-- Hourly Weather Forecast -->\n",
      "<div class=\"subItem\" id=\"feature\">\n",
      "<h4>Hourly Weather Forecast</h4>\n",
      "<a href=\"MapClick.php?lat=35.2229&amp;lon=-80.838&amp;unit=0&amp;lg=english&amp;FcstType=graphical\"><img class=\"img-responsive\" src=\"newimages/medium/hourlyweather.png\"/></a>\n",
      "</div>\n",
      "<!-- /Hourly Weather Forecast -->\n",
      "<!-- NDFD -->\n",
      "<div class=\"subItem\" id=\"NDFD\">\n",
      "<h4>National Digital Forecast Database</h4>\n",
      "<div class=\"one-sixth-first\"><a href=\"//graphical.weather.gov/sectors/midatlantic.php?element=MaxT\"><img alt=\"National Digital Forecast Database Maximum Temperature Forecast\" border=\"0\" height=\"150\" src=\"//graphical.weather.gov/images/thumbnail/latest_MaxMinT_midatlantic_thumbnail.png\" title=\"National Digital Forecast Database Maximum Temperature Forecast\" width=\"147\"/></a>\n",
      "<p><a href=\"//graphical.weather.gov/sectors/midatlantic.php?element=MaxT\">High Temperature</a></p></div><div class=\"one-sixth-first\"><a href=\"//graphical.weather.gov/sectors/midatlantic.php?element=Wx\"><img alt=\"National Digital Forecast Database Weather Element Forecast\" border=\"0\" height=\"150\" src=\"//graphical.weather.gov/images/thumbnail/latest_Wx_midatlantic_thumbnail.png\" title=\"National Digital Forecast Database Weather Element Forecast\" width=\"147\"/></a>\n",
      "<p><a href=\"//graphical.weather.gov/sectors/midatlantic.php?element=Wx\">Chance of Precipitation</a></p></div> </div>\n",
      "<!-- /NDFD -->\n",
      "</div>\n",
      "</div>\n",
      "<!-- /additionalForecast -->\n",
      "</div>\n",
      "<!-- /col-md-4 -->\n",
      "<!-- /right-side-data -->\n",
      "<script language=\"javascript\">$( document ).ready(function() { load_openlayers_map('', '', '', '{\"centroid_lat\":\"35.2229\",\"centroid_lon\":\"-80.838\",\"lat1\":\"35.218\",\"lon1\":\"-80.8535\",\"lat2\":\"35.24\",\"lon2\":\"-80.8505\",\"lat3\":\"35.238\",\"lon3\":\"-80.823\",\"lat4\":\"35.216\",\"lon4\":\"-80.826\"}') });</script></div>\n",
      "<!-- /row  -->\n",
      "</img></div>\n",
      "<!-- /PageFormat-Land -->\n",
      "\n",
      "<footer>\n",
      "<div class=\"sitemap-content row\" id=\"sitemap\">\n",
      "<div class=\"col-xs-12\">\n",
      "<div class=\"sitemap-columns\">\n",
      "<div class=\"sitemap-section\">\n",
      "<div class=\"panel-heading\">\n",
      "<a class=\"sitemap-section-heading\" href=\"http://alerts.weather.gov\">ACTIVE ALERTS</a>\n",
      "<button class=\"menu-toggle pull-right\" data-target=\"#sitemap-1\" data-toggle=\"collapse\" type=\"button\">\n",
      "<span class=\"sr-only\">Toggle menu</span>\n",
      "<span class=\"icon-bar\"></span>\n",
      "<span class=\"icon-bar\"></span>\n",
      "<span class=\"icon-bar\"></span>\n",
      "</button>\n",
      "</div>\n",
      "<div class=\"sitemap-section-body panel-body collapsable collapse\" id=\"sitemap-1\">\n",
      "<ul class=\"list-unstyled\">\n",
      "<li><a href=\" http://alerts.weather.gov\">Warnings By State</a></li>\n",
      "<li><a href=\" http://www.wpc.ncep.noaa.gov/ww.shtml\">Excessive Rainfall and Winter Weather Forecasts</a></li>\n",
      "<li><a href=\"http://water.weather.gov/ahps/?current_color=flood&amp;current_type=all&amp;fcst_type=obs&amp;conus_map=d_map\">River Flooding </a></li>\n",
      "<li><a href=\" http://www.weather.gov\">Latest Warnings</a></li>\n",
      "<li><a href=\" http://www.spc.noaa.gov/products/outlook/\">Thunderstorm/Tornado Outlook </a></li>\n",
      "<li><a href=\" http://www.nhc.noaa.gov/\">Hurricanes </a></li>\n",
      "<li><a href=\" http://www.spc.noaa.gov/products/fire_wx/\">Fire Weather Outlooks </a></li>\n",
      "<li><a href=\" http://www.cpc.ncep.noaa.gov/products/stratosphere/uv_index/uv_alert.shtml\">UV Alerts </a></li>\n",
      "<li><a href=\" http://www.drought.gov/\">Drought </a></li>\n",
      "<li><a href=\"http://www.swpc.noaa.gov/products/alerts-watches-and-warnings\">Space Weather </a></li>\n",
      "<li><a href=\" http://www.nws.noaa.gov/nwr/\">NOAA Weather Radio </a></li>\n",
      "<li><a href=\" http://alerts.weather.gov/\">NWS CAP Feeds </a></li>\n",
      "</ul>\n",
      "</div>\n",
      "</div>\n",
      "<div class=\"sitemap-section\">\n",
      "<div class=\"panel-heading\">\n",
      "<a class=\"sitemap-section-heading\" href=\"https://www.weather.gov/wrh/climate\">PAST WEATHER</a>\n",
      "<button class=\"menu-toggle pull-right\" data-target=\"#sitemap-2\" data-toggle=\"collapse\" type=\"button\">\n",
      "<span class=\"sr-only\">Toggle menu</span>\n",
      "<span class=\"icon-bar\"></span>\n",
      "<span class=\"icon-bar\"></span>\n",
      "<span class=\"icon-bar\"></span>\n",
      "</button>\n",
      "</div>\n",
      "<div class=\"sitemap-section-body panel-body collapsable collapse\" id=\"sitemap-2\">\n",
      "<ul class=\"list-unstyled\">\n",
      "<li><a href=\" http://www.cpc.ncep.noaa.gov/products/MD_index.shtml\">Climate Monitoring </a></li>\n",
      "<li><a href=\"https://www.weather.gov/wrh/climate\">Past Weather </a></li>\n",
      "<li><a href=\"https://www.weather.gov/wrh/climate\">Monthly Temps </a></li>\n",
      "<li><a href=\"https://www.weather.gov/wrh/climate\">Records </a></li>\n",
      "<li><a href=\"https://www.esrl.noaa.gov/gmd/grad/solcalc/sunrise.html\">Astronomical Data </a></li>\n",
      "<li><a href=\"https://www.climate.gov/maps-data/dataset/past-weather-zip-code-data-table\">Certified Weather Data </a></li>\n",
      "</ul>\n",
      "</div>\n",
      "</div>\n",
      "<div class=\"sitemap-section\">\n",
      "<div class=\"panel-heading\">\n",
      "<a class=\"sitemap-section-heading\" href=\"http://www.weather.gov/current\">CURRENT CONDITIONS</a>\n",
      "<button class=\"menu-toggle pull-right\" data-target=\"#sitemap-3\" data-toggle=\"collapse\" type=\"button\">\n",
      "<span class=\"sr-only\">Toggle menu</span>\n",
      "<span class=\"icon-bar\"></span>\n",
      "<span class=\"icon-bar\"></span>\n",
      "<span class=\"icon-bar\"></span>\n",
      "</button>\n",
      "</div>\n",
      "<div class=\"sitemap-section-body panel-body collapsable collapse\" id=\"sitemap-3\">\n",
      "<ul class=\"list-unstyled\">\n",
      "<li><a href=\" https://radar.weather.gov\">Radar </a></li>\n",
      "<li><a href=\"http://www.cpc.ncep.noaa.gov/products/monitoring_and_data/\">Climate Monitoring </a></li>\n",
      "<li><a href=\" http://water.weather.gov/ahps/\">River Levels </a></li>\n",
      "<li><a href=\" http://water.weather.gov/precip/\">Observed Precipitation </a></li>\n",
      "<li><a href=\"https://www.wpc.ncep.noaa.gov/sfc/sfcobs/sfcobs.shtml\">Surface Weather </a></li>\n",
      "<li><a href=\"http://www.spc.noaa.gov/obswx/maps/\">Upper Air </a></li>\n",
      "<li><a href=\" http://www.ndbc.noaa.gov/\">Marine and Buoy Reports </a></li>\n",
      "<li><a href=\"http://www.nohrsc.noaa.gov/interactive/html/map.html\">Snow Cover </a></li>\n",
      "<li><a href=\" http://www.weather.gov/satellite\">Satellite </a></li>\n",
      "<li><a href=\" http://www.swpc.noaa.gov/\">Space Weather </a></li>\n",
      "<li><a href=\"http://www.weather.gov/pr\">International Observations</a></li>\n",
      "</ul>\n",
      "</div>\n",
      "</div>\n",
      "<div class=\"sitemap-section\">\n",
      "<div class=\"panel-heading\">\n",
      "<a class=\"sitemap-section-heading\" href=\"http://weather.gov/forecastmaps\">FORECAST</a>\n",
      "<button class=\"menu-toggle pull-right\" data-target=\"#sitemap-4\" data-toggle=\"collapse\" type=\"button\">\n",
      "<span class=\"sr-only\">Toggle menu</span>\n",
      "<span class=\"icon-bar\"></span>\n",
      "<span class=\"icon-bar\"></span>\n",
      "<span class=\"icon-bar\"></span>\n",
      "</button>\n",
      "</div>\n",
      "<div class=\"sitemap-section-body panel-body collapsable collapse\" id=\"sitemap-4\">\n",
      "<ul class=\"list-unstyled\">\n",
      "<li><a href=\" http://www.weather.gov/\">Local Forecast </a></li>\n",
      "<li><a href=\"http://www.weather.gov/pr\">International Forecasts</a></li>\n",
      "<li><a href=\" http://www.spc.noaa.gov/\">Severe Weather </a></li>\n",
      "<li><a href=\" http://www.wpc.ncep.noaa.gov/\">Current Outlook Maps </a></li>\n",
      "<li><a href=\"http://www.cpc.ncep.noaa.gov/products/Drought\">Drought </a></li>\n",
      "<li><a href=\"http://www.weather.gov/fire\">Fire Weather </a></li>\n",
      "<li><a href=\" http://www.wpc.ncep.noaa.gov/\">Fronts/Precipitation Maps </a></li>\n",
      "<li><a href=\" http://www.nws.noaa.gov/forecasts/graphical/\">Current Graphical Forecast Maps </a></li>\n",
      "<li><a href=\"http://water.weather.gov/ahps/forecasts.php\">Rivers </a></li>\n",
      "<li><a href=\"https://www.weather.gov/marine/\">Marine </a></li>\n",
      "<li><a href=\"https://ocean.weather.gov/marine_areas.php\">Offshore and High Seas</a></li>\n",
      "<li><a href=\" http://www.nhc.noaa.gov/\">Hurricanes </a></li>\n",
      "<li><a href=\" http://aviationweather.gov\">Aviation Weather </a></li>\n",
      "<li><a href=\"http://www.cpc.ncep.noaa.gov/products/OUTLOOKS_index.shtml\">Climatic Outlook </a></li>\n",
      "</ul>\n",
      "</div>\n",
      "</div>\n",
      "<div class=\"sitemap-section\">\n",
      "<div class=\"panel-heading\">\n",
      "<a class=\"sitemap-section-heading\" href=\"http://www.weather.gov/informationcenter\">INFORMATION CENTER</a>\n",
      "<button class=\"menu-toggle pull-right\" data-target=\"#sitemap-5\" data-toggle=\"collapse\" type=\"button\">\n",
      "<span class=\"sr-only\">Toggle menu</span>\n",
      "<span class=\"icon-bar\"></span>\n",
      "<span class=\"icon-bar\"></span>\n",
      "<span class=\"icon-bar\"></span>\n",
      "</button>\n",
      "</div>\n",
      "<div class=\"sitemap-section-body panel-body collapsable collapse\" id=\"sitemap-5\">\n",
      "<ul class=\"list-unstyled\">\n",
      "<li><a href=\" http://www.spaceweather.gov\">Space Weather </a></li>\n",
      "<li><a href=\"http://www.weather.gov/briefing/\">Daily Briefing </a></li>\n",
      "<li><a href=\" http://www.nws.noaa.gov/om/marine/home.htm\">Marine </a></li>\n",
      "<li><a href=\"https://www.weather.gov/wrh/climate\">Climate </a></li>\n",
      "<li><a href=\"http://www.weather.gov/fire\">Fire Weather </a></li>\n",
      "<li><a href=\" http://www.aviationweather.gov/\">Aviation </a></li>\n",
      "<li><a href=\"http://mag.ncep.noaa.gov/\">Forecast Models </a></li>\n",
      "<li><a href=\"http://water.weather.gov/ahps/\">Water </a></li>\n",
      "<li><a href=\"https://www.weather.gov/gis/\">GIS</a></li>\n",
      "<li><a href=\" http://www.nws.noaa.gov/om/coop/\">Cooperative Observers </a></li>\n",
      "<li><a href=\"https://www.weather.gov/skywarn/\">Storm Spotters </a></li>\n",
      "<li><a href=\"http://www.tsunami.gov\">Tsunami Warning System</a></li>\n",
      "<li><a href=\"http://water.noaa.gov/\">National Water Center</a></li>\n",
      "<li><a href=\"http://www.weather.gov/pr\">International Weather</a></li>\n",
      "</ul>\n",
      "</div>\n",
      "</div>\n",
      "<div class=\"sitemap-section\">\n",
      "<div class=\"panel-heading\">\n",
      "<a class=\"sitemap-section-heading\" href=\"http://weather.gov/safety\">WEATHER SAFETY</a>\n",
      "<button class=\"menu-toggle pull-right\" data-target=\"#sitemap-6\" data-toggle=\"collapse\" type=\"button\">\n",
      "<span class=\"sr-only\">Toggle menu</span>\n",
      "<span class=\"icon-bar\"></span>\n",
      "<span class=\"icon-bar\"></span>\n",
      "<span class=\"icon-bar\"></span>\n",
      "</button>\n",
      "</div>\n",
      "<div class=\"sitemap-section-body panel-body collapsable collapse\" id=\"sitemap-6\">\n",
      "<ul class=\"list-unstyled\">\n",
      "<li><a href=\"http://www.weather.gov/nwr/\">NOAA Weather Radio</a></li>\n",
      "<li><a href=\"http://www.weather.gov/stormready/\">StormReady</a></li>\n",
      "<li><a href=\"http://www.nws.noaa.gov/om/heat/index.shtml\">Heat </a></li>\n",
      "<li><a href=\"https://www.weather.gov/safety/lightning\">Lightning </a></li>\n",
      "<li><a href=\" http://www.nhc.noaa.gov/prepare/\">Hurricanes </a></li>\n",
      "<li><a href=\"http://www.nws.noaa.gov/om/thunderstorm/\">Thunderstorms </a></li>\n",
      "<li><a href=\"https://www.weather.gov/safety/tornado\">Tornadoes </a></li>\n",
      "<li><a href=\"https://www.weather.gov/safety/ripcurrent\">Rip Currents </a></li>\n",
      "<li><a href=\"https://www.weather.gov/safety/flood\">Floods </a></li>\n",
      "<li><a href=\"https://www.weather.gov/safety/tsunami\">Tsunamis</a></li>\n",
      "<li><a href=\"https://www.weather.gov/tsunamiready/\">TsunamiReady</a></li>\n",
      "<li><a href=\" http://www.weather.gov/om/winter/index.shtml\">Winter Weather </a></li>\n",
      "<li><a href=\"http://www.nws.noaa.gov/om/heat/uv.shtml\">Ultra Violet Radiation </a></li>\n",
      "<li><a href=\" http://www.weather.gov/airquality/\">Air Quality </a></li>\n",
      "<li><a href=\" http://www.weather.gov/om/hazstats.shtml\">Damage/Fatality/Injury Statistics </a></li>\n",
      "<li><a href=\" http://www.redcross.org/\">Red Cross </a></li>\n",
      "<li><a href=\" http://www.fema.gov/\">Federal Emergency Management Agency (FEMA) </a></li>\n",
      "<li><a href=\" http://www.weather.gov/om/brochures.shtml\">Brochures </a></li>\n",
      "<li><a href=\"http://www.nws.noaa.gov/os/marine/safeboating/\">Safe Boating</a></li>\n",
      "</ul>\n",
      "</div>\n",
      "</div>\n",
      "<div class=\"sitemap-section\">\n",
      "<div class=\"panel-heading\">\n",
      "<a class=\"sitemap-section-heading\" href=\"http://weather.gov/news\">NEWS</a>\n",
      "<button class=\"menu-toggle pull-right\" data-target=\"#sitemap-7\" data-toggle=\"collapse\" type=\"button\">\n",
      "<span class=\"sr-only\">Toggle menu</span>\n",
      "<span class=\"icon-bar\"></span>\n",
      "<span class=\"icon-bar\"></span>\n",
      "<span class=\"icon-bar\"></span>\n",
      "</button>\n",
      "</div>\n",
      "<div class=\"sitemap-section-body panel-body collapsable collapse\" id=\"sitemap-7\">\n",
      "<ul class=\"list-unstyled\">\n",
      "<li><a href=\" http://weather.gov/news\">Newsroom</a></li>\n",
      "<li><a href=\" http://weather.gov/socialmedia\">Social Media </a></li>\n",
      "<li><a href=\"http://www.nws.noaa.gov/com/weatherreadynation/calendar.html\">Events</a></li>\n",
      "<li><a href=\" http://www.weather.gov/om/brochures.shtml\">Pubs/Brochures/Booklets </a></li>\n",
      "</ul>\n",
      "</div>\n",
      "</div>\n",
      "<div class=\"sitemap-section\">\n",
      "<div class=\"panel-heading\">\n",
      "<a class=\"sitemap-section-heading\" href=\"http://weather.gov/owlie\">EDUCATION</a>\n",
      "<button class=\"menu-toggle pull-right\" data-target=\"#sitemap-8\" data-toggle=\"collapse\" type=\"button\">\n",
      "<span class=\"sr-only\">Toggle menu</span>\n",
      "<span class=\"icon-bar\"></span>\n",
      "<span class=\"icon-bar\"></span>\n",
      "<span class=\"icon-bar\"></span>\n",
      "</button>\n",
      "</div>\n",
      "<div class=\"sitemap-section-body panel-body collapsable collapse\" id=\"sitemap-8\">\n",
      "<ul class=\"list-unstyled\">\n",
      "<li><a href=\"http://weather.gov/education\">NWS Education Home</a></li>\n",
      "<li><a href=\"http://www.nws.noaa.gov/com/weatherreadynation/force.html\">Be A Force of Nature</a></li>\n",
      "<li><a href=\" http://www.education.noaa.gov/Weather_and_Atmosphere/\">NOAA Education Resources </a></li>\n",
      "<li><a href=\" http://www.weather.gov/glossary/\">Glossary </a></li>\n",
      "<li><a href=\"https://www.weather.gov/jetstream/\">JetStream </a></li>\n",
      "<li><a href=\" http://www.weather.gov/training/\">NWS Training Portal </a></li>\n",
      "<li><a href=\"https://library.noaa.gov/\">NOAA Library </a></li>\n",
      "<li><a href=\"http://weather.gov/owlie\">For Students, Parents and Teachers</a></li>\n",
      "<li><a href=\"http://www.weather.gov/owlie/publication_brochures\">Brochures </a></li>\n",
      "</ul>\n",
      "</div>\n",
      "</div>\n",
      "<div class=\"sitemap-section\">\n",
      "<div class=\"panel-heading\">\n",
      "<a class=\"sitemap-section-heading\" href=\"http://weather.gov/about\">ABOUT</a>\n",
      "<button class=\"menu-toggle pull-right\" data-target=\"#sitemap-9\" data-toggle=\"collapse\" type=\"button\">\n",
      "<span class=\"sr-only\">Toggle menu</span>\n",
      "<span class=\"icon-bar\"></span>\n",
      "<span class=\"icon-bar\"></span>\n",
      "<span class=\"icon-bar\"></span>\n",
      "</button>\n",
      "</div>\n",
      "<div class=\"sitemap-section-body panel-body collapsable collapse\" id=\"sitemap-9\">\n",
      "<ul class=\"list-unstyled\">\n",
      "<li><a href=\"http://weather.gov/organization\">Organization </a></li>\n",
      "<li><a href=\"https://www.weather.gov/media/wrn/NWS_Weather-Ready-Nation_Strategic_Plan_2019-2022.pdf\">Strategic Plan </a></li>\n",
      "<li><a href=\"https://sites.google.com/a/noaa.gov/nws-best-practices/\">For NWS Employees </a></li>\n",
      "<li><a href=\"https://www.weather.gov/international/\">International </a></li>\n",
      "<li><a href=\"http://www.ncep.noaa.gov/\">National Centers </a></li>\n",
      "<li><a href=\" http://www.weather.gov/tg/\">Products and Services </a></li>\n",
      "<li><a href=\"http://www.weather.gov/careers/\">Careers</a></li>\n",
      "<li><a href=\" http://www.weather.gov/glossary/\">Glossary </a></li>\n",
      "<li><a href=\"http://weather.gov/contact\">Contact Us </a></li>\n",
      "</ul>\n",
      "</div>\n",
      "</div>\n",
      "</div>\n",
      "</div>\n",
      "</div>\n",
      "<!-- legal footer area -->\n",
      "<div class=\"footer-legal\">\n",
      "<div class=\"col-xs-12 col-sm-2 col-md-2\" id=\"footerLogo\">\n",
      "<a href=\"http://www.usa.gov\"><img alt=\"usa.gov\" height=\"30\" src=\"/css/images/usa_gov.png\" width=\"110\"/></a>\n",
      "</div>\n",
      "<div class=\"col-xs-12 col-sm-4 col-md-4\">\n",
      "<ul class=\"list-unstyled footer-legal-content\">\n",
      "<li><a href=\"http://www.commerce.gov\">US Dept of Commerce</a></li>\n",
      "<li><a href=\"http://www.noaa.gov\">National Oceanic and Atmospheric Administration</a></li>\n",
      "<li><a href=\"http://www.weather.gov\">National Weather Service</a></li>\n",
      "<li><a href=\"https://www.weather.gov/gsp\">Greenville-Spartanburg, SC</a></li><li><br><a href=\"mailto:gsp.webmaster@noaa.gov\">Comments? Questions? Please Contact Us.</a></br></li> </ul>\n",
      "</div>\n",
      "<div class=\"col-xs-12 col-sm-3 col-md-3\">\n",
      "<ul class=\"list-unstyled\">\n",
      "<li><a href=\"https://www.weather.gov/disclaimer\">Disclaimer</a></li>\n",
      "<li><a href=\"http://www.cio.noaa.gov/services_programs/info_quality.html\">Information Quality</a></li>\n",
      "<li><a href=\"https://www.weather.gov/help\">Help</a></li>\n",
      "<li><a href=\"http://www.weather.gov/glossary\">Glossary</a></li>\n",
      "</ul>\n",
      "</div>\n",
      "<div class=\"col-xs-12 col-sm-3 col-md-3\">\n",
      "<ul class=\"list-unstyled\">\n",
      "<li><a href=\"https://www.weather.gov/privacy\">Privacy Policy</a></li>\n",
      "<li><a href=\"https://www.noaa.gov/foia-freedom-of-information-act\">Freedom of Information Act (FOIA)</a></li>\n",
      "<li><a href=\"https://www.weather.gov/about\">About Us</a></li>\n",
      "<li><a href=\"https://www.weather.gov/careers\">Career Opportunities</a></li>\n",
      "</ul>\n",
      "</div>\n",
      "</div>\n",
      "</footer>\n",
      "</main>\n",
      "</body>\n",
      "</html>\n",
      "\n"
     ]
    }
   ],
   "source": [
    "print(soup)"
   ]
  },
  {
   "cell_type": "code",
   "execution_count": 45,
   "metadata": {},
   "outputs": [],
   "source": [
    "seven_day = soup.find(id=\"seven-day-forecast\")"
   ]
  },
  {
   "cell_type": "code",
   "execution_count": 46,
   "metadata": {},
   "outputs": [
    {
     "name": "stdout",
     "output_type": "stream",
     "text": [
      "<div class=\"panel panel-default\" id=\"seven-day-forecast\">\n",
      "<div class=\"panel-heading\">\n",
      "<b>Extended Forecast for</b>\n",
      "<h2 class=\"panel-title\">\n",
      "\t    \t    2 Miles N Charlotte NC\t</h2>\n",
      "</div>\n",
      "<div class=\"panel-body\" id=\"seven-day-forecast-body\">\n",
      "<div id=\"seven-day-forecast-container\"><ul class=\"list-unstyled\" id=\"seven-day-forecast-list\"><li class=\"forecast-tombstone\">\n",
      "<div class=\"tombstone-container\">\n",
      "<p class=\"period-name\">Today<br/><br/></p>\n",
      "<p><img alt=\"Today: Scattered showers, with thunderstorms also possible after noon.  Cloudy, with a high near 76. Northeast wind around 8 mph.  Chance of precipitation is 50%. New rainfall amounts between a quarter and half of an inch possible. \" class=\"forecast-icon\" src=\"DualImage.php?i=shra&amp;j=tsra&amp;ip=50&amp;jp=50\" title=\"Today: Scattered showers, with thunderstorms also possible after noon.  Cloudy, with a high near 76. Northeast wind around 8 mph.  Chance of precipitation is 50%. New rainfall amounts between a quarter and half of an inch possible. \"/></p><p class=\"short-desc\">Scattered<br/>Showers then<br/>Scattered<br/>T-storms</p><p class=\"temp temp-high\">High: 76 °F</p></div></li><li class=\"forecast-tombstone\">\n",
      "<div class=\"tombstone-container\">\n",
      "<p class=\"period-name\">Tonight<br/><br/></p>\n",
      "<p><img alt=\"Tonight: A chance of showers and thunderstorms.  Patchy fog after 4am.  Otherwise, mostly cloudy, with a low around 66. Northeast wind 3 to 6 mph.  Chance of precipitation is 40%. New precipitation amounts between a quarter and half of an inch possible. \" class=\"forecast-icon\" src=\"DualImage.php?i=ntsra&amp;j=nshra&amp;ip=40&amp;jp=40\" title=\"Tonight: A chance of showers and thunderstorms.  Patchy fog after 4am.  Otherwise, mostly cloudy, with a low around 66. Northeast wind 3 to 6 mph.  Chance of precipitation is 40%. New precipitation amounts between a quarter and half of an inch possible. \"/></p><p class=\"short-desc\">Chance<br/>T-storms then<br/>Chance<br/>Showers and<br/>Patchy Fog</p><p class=\"temp temp-low\">Low: 66 °F</p></div></li><li class=\"forecast-tombstone\">\n",
      "<div class=\"tombstone-container\">\n",
      "<p class=\"period-name\">Friday<br/><br/></p>\n",
      "<p><img alt=\"Friday: Showers likely, with thunderstorms also possible after noon.  Patchy fog before 10am.  Otherwise, mostly cloudy, with a high near 76. East northeast wind 3 to 5 mph.  Chance of precipitation is 70%. New rainfall amounts of less than a tenth of an inch, except higher amounts possible in thunderstorms. \" class=\"forecast-icon\" src=\"newimages/medium/shra70.png\" title=\"Friday: Showers likely, with thunderstorms also possible after noon.  Patchy fog before 10am.  Otherwise, mostly cloudy, with a high near 76. East northeast wind 3 to 5 mph.  Chance of precipitation is 70%. New rainfall amounts of less than a tenth of an inch, except higher amounts possible in thunderstorms. \"/></p><p class=\"short-desc\">Showers<br/>Likely and<br/>Patchy Fog</p><p class=\"temp temp-high\">High: 76 °F</p></div></li><li class=\"forecast-tombstone\">\n",
      "<div class=\"tombstone-container\">\n",
      "<p class=\"period-name\">Friday<br/>Night</p>\n",
      "<p><img alt=\"Friday Night: A 50 percent chance of showers and thunderstorms.  Mostly cloudy, with a low around 64. North northeast wind 3 to 5 mph.  New rainfall amounts between a tenth and quarter of an inch, except higher amounts possible in thunderstorms. \" class=\"forecast-icon\" src=\"newimages/medium/ntsra50.png\" title=\"Friday Night: A 50 percent chance of showers and thunderstorms.  Mostly cloudy, with a low around 64. North northeast wind 3 to 5 mph.  New rainfall amounts between a tenth and quarter of an inch, except higher amounts possible in thunderstorms. \"/></p><p class=\"short-desc\">Chance<br/>T-storms</p><p class=\"temp temp-low\">Low: 64 °F</p></div></li><li class=\"forecast-tombstone\">\n",
      "<div class=\"tombstone-container\">\n",
      "<p class=\"period-name\">Saturday<br/><br/></p>\n",
      "<p><img alt=\"Saturday: A 40 percent chance of showers and thunderstorms.  Partly sunny, with a high near 75. Northeast wind around 6 mph. \" class=\"forecast-icon\" src=\"newimages/medium/scttsra40.png\" title=\"Saturday: A 40 percent chance of showers and thunderstorms.  Partly sunny, with a high near 75. Northeast wind around 6 mph. \"/></p><p class=\"short-desc\">Chance<br/>T-storms</p><p class=\"temp temp-high\">High: 75 °F</p></div></li><li class=\"forecast-tombstone\">\n",
      "<div class=\"tombstone-container\">\n",
      "<p class=\"period-name\">Saturday<br/>Night</p>\n",
      "<p><img alt=\"Saturday Night: A 20 percent chance of showers before 9pm.  Partly cloudy, with a low around 62.\" class=\"forecast-icon\" src=\"DualImage.php?i=hi_nshwrs&amp;j=nsct&amp;ip=20\" title=\"Saturday Night: A 20 percent chance of showers before 9pm.  Partly cloudy, with a low around 62.\"/></p><p class=\"short-desc\">Slight Chance<br/>Showers then<br/>Partly Cloudy</p><p class=\"temp temp-low\">Low: 62 °F</p></div></li><li class=\"forecast-tombstone\">\n",
      "<div class=\"tombstone-container\">\n",
      "<p class=\"period-name\">Sunday<br/><br/></p>\n",
      "<p><img alt=\"Sunday: Mostly sunny, with a high near 77.\" class=\"forecast-icon\" src=\"newimages/medium/sct.png\" title=\"Sunday: Mostly sunny, with a high near 77.\"/></p><p class=\"short-desc\">Mostly Sunny</p><p class=\"temp temp-high\">High: 77 °F</p></div></li><li class=\"forecast-tombstone\">\n",
      "<div class=\"tombstone-container\">\n",
      "<p class=\"period-name\">Sunday<br/>Night</p>\n",
      "<p><img alt=\"Sunday Night: Mostly clear, with a low around 61.\" class=\"forecast-icon\" src=\"newimages/medium/nfew.png\" title=\"Sunday Night: Mostly clear, with a low around 61.\"/></p><p class=\"short-desc\">Mostly Clear</p><p class=\"temp temp-low\">Low: 61 °F</p></div></li><li class=\"forecast-tombstone\">\n",
      "<div class=\"tombstone-container\">\n",
      "<p class=\"period-name\">Columbus<br/>Day</p>\n",
      "<p><img alt=\"Columbus Day: Mostly sunny, with a high near 79.\" class=\"forecast-icon\" src=\"newimages/medium/sct.png\" title=\"Columbus Day: Mostly sunny, with a high near 79.\"/></p><p class=\"short-desc\">Mostly Sunny</p><p class=\"temp temp-high\">High: 79 °F</p></div></li></ul></div>\n",
      "<script type=\"text/javascript\">\n",
      "// equalize forecast heights\n",
      "$(function () {\n",
      "\tvar maxh = 0;\n",
      "\t$(\".forecast-tombstone .short-desc\").each(function () {\n",
      "\t\tvar h = $(this).height();\n",
      "\t\tif (h > maxh) { maxh = h; }\n",
      "\t});\n",
      "\t$(\".forecast-tombstone .short-desc\").height(maxh);\n",
      "});\n",
      "</script> </div>\n",
      "</div>\n"
     ]
    }
   ],
   "source": [
    "print(seven_day)"
   ]
  },
  {
   "cell_type": "code",
   "execution_count": 47,
   "metadata": {},
   "outputs": [
    {
     "name": "stdout",
     "output_type": "stream",
     "text": [
      "[<div class=\"tombstone-container\">\n",
      "<p class=\"period-name\">Today<br/><br/></p>\n",
      "<p><img alt=\"Today: Scattered showers, with thunderstorms also possible after noon.  Cloudy, with a high near 76. Northeast wind around 8 mph.  Chance of precipitation is 50%. New rainfall amounts between a quarter and half of an inch possible. \" class=\"forecast-icon\" src=\"DualImage.php?i=shra&amp;j=tsra&amp;ip=50&amp;jp=50\" title=\"Today: Scattered showers, with thunderstorms also possible after noon.  Cloudy, with a high near 76. Northeast wind around 8 mph.  Chance of precipitation is 50%. New rainfall amounts between a quarter and half of an inch possible. \"/></p><p class=\"short-desc\">Scattered<br/>Showers then<br/>Scattered<br/>T-storms</p><p class=\"temp temp-high\">High: 76 °F</p></div>, <div class=\"tombstone-container\">\n",
      "<p class=\"period-name\">Tonight<br/><br/></p>\n",
      "<p><img alt=\"Tonight: A chance of showers and thunderstorms.  Patchy fog after 4am.  Otherwise, mostly cloudy, with a low around 66. Northeast wind 3 to 6 mph.  Chance of precipitation is 40%. New precipitation amounts between a quarter and half of an inch possible. \" class=\"forecast-icon\" src=\"DualImage.php?i=ntsra&amp;j=nshra&amp;ip=40&amp;jp=40\" title=\"Tonight: A chance of showers and thunderstorms.  Patchy fog after 4am.  Otherwise, mostly cloudy, with a low around 66. Northeast wind 3 to 6 mph.  Chance of precipitation is 40%. New precipitation amounts between a quarter and half of an inch possible. \"/></p><p class=\"short-desc\">Chance<br/>T-storms then<br/>Chance<br/>Showers and<br/>Patchy Fog</p><p class=\"temp temp-low\">Low: 66 °F</p></div>, <div class=\"tombstone-container\">\n",
      "<p class=\"period-name\">Friday<br/><br/></p>\n",
      "<p><img alt=\"Friday: Showers likely, with thunderstorms also possible after noon.  Patchy fog before 10am.  Otherwise, mostly cloudy, with a high near 76. East northeast wind 3 to 5 mph.  Chance of precipitation is 70%. New rainfall amounts of less than a tenth of an inch, except higher amounts possible in thunderstorms. \" class=\"forecast-icon\" src=\"newimages/medium/shra70.png\" title=\"Friday: Showers likely, with thunderstorms also possible after noon.  Patchy fog before 10am.  Otherwise, mostly cloudy, with a high near 76. East northeast wind 3 to 5 mph.  Chance of precipitation is 70%. New rainfall amounts of less than a tenth of an inch, except higher amounts possible in thunderstorms. \"/></p><p class=\"short-desc\">Showers<br/>Likely and<br/>Patchy Fog</p><p class=\"temp temp-high\">High: 76 °F</p></div>, <div class=\"tombstone-container\">\n",
      "<p class=\"period-name\">Friday<br/>Night</p>\n",
      "<p><img alt=\"Friday Night: A 50 percent chance of showers and thunderstorms.  Mostly cloudy, with a low around 64. North northeast wind 3 to 5 mph.  New rainfall amounts between a tenth and quarter of an inch, except higher amounts possible in thunderstorms. \" class=\"forecast-icon\" src=\"newimages/medium/ntsra50.png\" title=\"Friday Night: A 50 percent chance of showers and thunderstorms.  Mostly cloudy, with a low around 64. North northeast wind 3 to 5 mph.  New rainfall amounts between a tenth and quarter of an inch, except higher amounts possible in thunderstorms. \"/></p><p class=\"short-desc\">Chance<br/>T-storms</p><p class=\"temp temp-low\">Low: 64 °F</p></div>, <div class=\"tombstone-container\">\n",
      "<p class=\"period-name\">Saturday<br/><br/></p>\n",
      "<p><img alt=\"Saturday: A 40 percent chance of showers and thunderstorms.  Partly sunny, with a high near 75. Northeast wind around 6 mph. \" class=\"forecast-icon\" src=\"newimages/medium/scttsra40.png\" title=\"Saturday: A 40 percent chance of showers and thunderstorms.  Partly sunny, with a high near 75. Northeast wind around 6 mph. \"/></p><p class=\"short-desc\">Chance<br/>T-storms</p><p class=\"temp temp-high\">High: 75 °F</p></div>, <div class=\"tombstone-container\">\n",
      "<p class=\"period-name\">Saturday<br/>Night</p>\n",
      "<p><img alt=\"Saturday Night: A 20 percent chance of showers before 9pm.  Partly cloudy, with a low around 62.\" class=\"forecast-icon\" src=\"DualImage.php?i=hi_nshwrs&amp;j=nsct&amp;ip=20\" title=\"Saturday Night: A 20 percent chance of showers before 9pm.  Partly cloudy, with a low around 62.\"/></p><p class=\"short-desc\">Slight Chance<br/>Showers then<br/>Partly Cloudy</p><p class=\"temp temp-low\">Low: 62 °F</p></div>, <div class=\"tombstone-container\">\n",
      "<p class=\"period-name\">Sunday<br/><br/></p>\n",
      "<p><img alt=\"Sunday: Mostly sunny, with a high near 77.\" class=\"forecast-icon\" src=\"newimages/medium/sct.png\" title=\"Sunday: Mostly sunny, with a high near 77.\"/></p><p class=\"short-desc\">Mostly Sunny</p><p class=\"temp temp-high\">High: 77 °F</p></div>, <div class=\"tombstone-container\">\n",
      "<p class=\"period-name\">Sunday<br/>Night</p>\n",
      "<p><img alt=\"Sunday Night: Mostly clear, with a low around 61.\" class=\"forecast-icon\" src=\"newimages/medium/nfew.png\" title=\"Sunday Night: Mostly clear, with a low around 61.\"/></p><p class=\"short-desc\">Mostly Clear</p><p class=\"temp temp-low\">Low: 61 °F</p></div>, <div class=\"tombstone-container\">\n",
      "<p class=\"period-name\">Columbus<br/>Day</p>\n",
      "<p><img alt=\"Columbus Day: Mostly sunny, with a high near 79.\" class=\"forecast-icon\" src=\"newimages/medium/sct.png\" title=\"Columbus Day: Mostly sunny, with a high near 79.\"/></p><p class=\"short-desc\">Mostly Sunny</p><p class=\"temp temp-high\">High: 79 °F</p></div>]\n"
     ]
    }
   ],
   "source": [
    "forecast_items = seven_day.find_all(class_=\"tombstone-container\")\n",
    "print(forecast_items)"
   ]
  },
  {
   "cell_type": "code",
   "execution_count": 48,
   "metadata": {},
   "outputs": [],
   "source": [
    "tonight = forecast_items[0]"
   ]
  },
  {
   "cell_type": "code",
   "execution_count": 49,
   "metadata": {},
   "outputs": [
    {
     "name": "stdout",
     "output_type": "stream",
     "text": [
      "<div class=\"tombstone-container\">\n",
      "<p class=\"period-name\">Today<br/><br/></p>\n",
      "<p><img alt=\"Today: Scattered showers, with thunderstorms also possible after noon.  Cloudy, with a high near 76. Northeast wind around 8 mph.  Chance of precipitation is 50%. New rainfall amounts between a quarter and half of an inch possible. \" class=\"forecast-icon\" src=\"DualImage.php?i=shra&amp;j=tsra&amp;ip=50&amp;jp=50\" title=\"Today: Scattered showers, with thunderstorms also possible after noon.  Cloudy, with a high near 76. Northeast wind around 8 mph.  Chance of precipitation is 50%. New rainfall amounts between a quarter and half of an inch possible. \"/></p><p class=\"short-desc\">Scattered<br/>Showers then<br/>Scattered<br/>T-storms</p><p class=\"temp temp-high\">High: 76 °F</p></div>\n"
     ]
    }
   ],
   "source": [
    "print(tonight)"
   ]
  },
  {
   "cell_type": "code",
   "execution_count": 50,
   "metadata": {},
   "outputs": [
    {
     "name": "stdout",
     "output_type": "stream",
     "text": [
      "<div class=\"tombstone-container\">\n",
      " <p class=\"period-name\">\n",
      "  Today\n",
      "  <br/>\n",
      "  <br/>\n",
      " </p>\n",
      " <p>\n",
      "  <img alt=\"Today: Scattered showers, with thunderstorms also possible after noon.  Cloudy, with a high near 76. Northeast wind around 8 mph.  Chance of precipitation is 50%. New rainfall amounts between a quarter and half of an inch possible. \" class=\"forecast-icon\" src=\"DualImage.php?i=shra&amp;j=tsra&amp;ip=50&amp;jp=50\" title=\"Today: Scattered showers, with thunderstorms also possible after noon.  Cloudy, with a high near 76. Northeast wind around 8 mph.  Chance of precipitation is 50%. New rainfall amounts between a quarter and half of an inch possible. \"/>\n",
      " </p>\n",
      " <p class=\"short-desc\">\n",
      "  Scattered\n",
      "  <br/>\n",
      "  Showers then\n",
      "  <br/>\n",
      "  Scattered\n",
      "  <br/>\n",
      "  T-storms\n",
      " </p>\n",
      " <p class=\"temp temp-high\">\n",
      "  High: 76 °F\n",
      " </p>\n",
      "</div>\n"
     ]
    }
   ],
   "source": [
    "print(tonight.prettify())"
   ]
  },
  {
   "cell_type": "code",
   "execution_count": 51,
   "metadata": {},
   "outputs": [
    {
     "name": "stdout",
     "output_type": "stream",
     "text": [
      "Today\n"
     ]
    }
   ],
   "source": [
    "period = tonight.find(class_=\"period-name\").get_text()\n",
    "print(period)"
   ]
  },
  {
   "cell_type": "code",
   "execution_count": 52,
   "metadata": {},
   "outputs": [
    {
     "name": "stdout",
     "output_type": "stream",
     "text": [
      "ScatteredShowers thenScatteredT-storms\n"
     ]
    }
   ],
   "source": [
    "short_desc = tonight.find(class_=\"short-desc\").get_text()\n",
    "print(short_desc)"
   ]
  },
  {
   "cell_type": "code",
   "execution_count": 53,
   "metadata": {},
   "outputs": [
    {
     "name": "stdout",
     "output_type": "stream",
     "text": [
      "High: 76 °F\n"
     ]
    }
   ],
   "source": [
    "temp = tonight.find(class_=\"temp\").get_text()\n",
    "print(temp)"
   ]
  },
  {
   "cell_type": "code",
   "execution_count": 54,
   "metadata": {},
   "outputs": [
    {
     "name": "stdout",
     "output_type": "stream",
     "text": [
      "Today\n",
      "ScatteredShowers thenScatteredT-storms\n",
      "High: 76 °F\n"
     ]
    }
   ],
   "source": [
    "print(period)\n",
    "print(short_desc)\n",
    "print(temp)"
   ]
  },
  {
   "cell_type": "code",
   "execution_count": 55,
   "metadata": {},
   "outputs": [
    {
     "name": "stdout",
     "output_type": "stream",
     "text": [
      "Today: Scattered showers, with thunderstorms also possible after noon.  Cloudy, with a high near 76. Northeast wind around 8 mph.  Chance of precipitation is 50%. New rainfall amounts between a quarter and half of an inch possible. \n"
     ]
    }
   ],
   "source": [
    "img = tonight.find(\"img\")\n",
    "desc = img['title']\n",
    "print(desc)"
   ]
  },
  {
   "cell_type": "code",
   "execution_count": 56,
   "metadata": {},
   "outputs": [
    {
     "name": "stdout",
     "output_type": "stream",
     "text": [
      "[<p class=\"period-name\">Today<br/><br/></p>, <p class=\"period-name\">Tonight<br/><br/></p>, <p class=\"period-name\">Friday<br/><br/></p>, <p class=\"period-name\">Friday<br/>Night</p>, <p class=\"period-name\">Saturday<br/><br/></p>, <p class=\"period-name\">Saturday<br/>Night</p>, <p class=\"period-name\">Sunday<br/><br/></p>, <p class=\"period-name\">Sunday<br/>Night</p>, <p class=\"period-name\">Columbus<br/>Day</p>]\n"
     ]
    }
   ],
   "source": [
    "period_tags = seven_day.select(\".tombstone-container .period-name\")\n",
    "print(period_tags)"
   ]
  },
  {
   "cell_type": "code",
   "execution_count": 57,
   "metadata": {},
   "outputs": [
    {
     "data": {
      "text/plain": [
       "['Today',\n",
       " 'Tonight',\n",
       " 'Friday',\n",
       " 'FridayNight',\n",
       " 'Saturday',\n",
       " 'SaturdayNight',\n",
       " 'Sunday',\n",
       " 'SundayNight',\n",
       " 'ColumbusDay']"
      ]
     },
     "execution_count": 57,
     "metadata": {},
     "output_type": "execute_result"
    }
   ],
   "source": [
    "periods = [pt.get_text() for pt in period_tags]\n",
    "periods"
   ]
  },
  {
   "cell_type": "code",
   "execution_count": 58,
   "metadata": {},
   "outputs": [
    {
     "name": "stdout",
     "output_type": "stream",
     "text": [
      "['ScatteredShowers thenScatteredT-storms', 'ChanceT-storms thenChanceShowers andPatchy Fog', 'ShowersLikely andPatchy Fog', 'ChanceT-storms', 'ChanceT-storms', 'Slight ChanceShowers thenPartly Cloudy', 'Mostly Sunny', 'Mostly Clear', 'Mostly Sunny']\n",
      "['High: 76 °F', 'Low: 66 °F', 'High: 76 °F', 'Low: 64 °F', 'High: 75 °F', 'Low: 62 °F', 'High: 77 °F', 'Low: 61 °F', 'High: 79 °F']\n",
      "['Today: Scattered showers, with thunderstorms also possible after noon.  Cloudy, with a high near 76. Northeast wind around 8 mph.  Chance of precipitation is 50%. New rainfall amounts between a quarter and half of an inch possible. ', 'Tonight: A chance of showers and thunderstorms.  Patchy fog after 4am.  Otherwise, mostly cloudy, with a low around 66. Northeast wind 3 to 6 mph.  Chance of precipitation is 40%. New precipitation amounts between a quarter and half of an inch possible. ', 'Friday: Showers likely, with thunderstorms also possible after noon.  Patchy fog before 10am.  Otherwise, mostly cloudy, with a high near 76. East northeast wind 3 to 5 mph.  Chance of precipitation is 70%. New rainfall amounts of less than a tenth of an inch, except higher amounts possible in thunderstorms. ', 'Friday Night: A 50 percent chance of showers and thunderstorms.  Mostly cloudy, with a low around 64. North northeast wind 3 to 5 mph.  New rainfall amounts between a tenth and quarter of an inch, except higher amounts possible in thunderstorms. ', 'Saturday: A 40 percent chance of showers and thunderstorms.  Partly sunny, with a high near 75. Northeast wind around 6 mph. ', 'Saturday Night: A 20 percent chance of showers before 9pm.  Partly cloudy, with a low around 62.', 'Sunday: Mostly sunny, with a high near 77.', 'Sunday Night: Mostly clear, with a low around 61.', 'Columbus Day: Mostly sunny, with a high near 79.']\n"
     ]
    }
   ],
   "source": [
    "short_descs = [sd.get_text() for sd in seven_day.select(\".tombstone-container .short-desc\")]\n",
    "temps = [t.get_text() for t in seven_day.select(\".tombstone-container .temp\")]\n",
    "descs = [d[\"title\"] for d in seven_day.select(\".tombstone-container img\")]\n",
    "print(short_descs)\n",
    "print(temps)\n",
    "print(descs)"
   ]
  },
  {
   "cell_type": "code",
   "execution_count": 59,
   "metadata": {},
   "outputs": [
    {
     "data": {
      "text/html": [
       "<div>\n",
       "<style scoped>\n",
       "    .dataframe tbody tr th:only-of-type {\n",
       "        vertical-align: middle;\n",
       "    }\n",
       "\n",
       "    .dataframe tbody tr th {\n",
       "        vertical-align: top;\n",
       "    }\n",
       "\n",
       "    .dataframe thead th {\n",
       "        text-align: right;\n",
       "    }\n",
       "</style>\n",
       "<table border=\"1\" class=\"dataframe\">\n",
       "  <thead>\n",
       "    <tr style=\"text-align: right;\">\n",
       "      <th></th>\n",
       "      <th>period</th>\n",
       "      <th>short_desc</th>\n",
       "      <th>temp</th>\n",
       "      <th>desc</th>\n",
       "    </tr>\n",
       "  </thead>\n",
       "  <tbody>\n",
       "    <tr>\n",
       "      <th>0</th>\n",
       "      <td>Today</td>\n",
       "      <td>ScatteredShowers thenScatteredT-storms</td>\n",
       "      <td>High: 76 °F</td>\n",
       "      <td>Today: Scattered showers, with thunderstorms a...</td>\n",
       "    </tr>\n",
       "    <tr>\n",
       "      <th>1</th>\n",
       "      <td>Tonight</td>\n",
       "      <td>ChanceT-storms thenChanceShowers andPatchy Fog</td>\n",
       "      <td>Low: 66 °F</td>\n",
       "      <td>Tonight: A chance of showers and thunderstorms...</td>\n",
       "    </tr>\n",
       "    <tr>\n",
       "      <th>2</th>\n",
       "      <td>Friday</td>\n",
       "      <td>ShowersLikely andPatchy Fog</td>\n",
       "      <td>High: 76 °F</td>\n",
       "      <td>Friday: Showers likely, with thunderstorms als...</td>\n",
       "    </tr>\n",
       "    <tr>\n",
       "      <th>3</th>\n",
       "      <td>FridayNight</td>\n",
       "      <td>ChanceT-storms</td>\n",
       "      <td>Low: 64 °F</td>\n",
       "      <td>Friday Night: A 50 percent chance of showers a...</td>\n",
       "    </tr>\n",
       "    <tr>\n",
       "      <th>4</th>\n",
       "      <td>Saturday</td>\n",
       "      <td>ChanceT-storms</td>\n",
       "      <td>High: 75 °F</td>\n",
       "      <td>Saturday: A 40 percent chance of showers and t...</td>\n",
       "    </tr>\n",
       "    <tr>\n",
       "      <th>5</th>\n",
       "      <td>SaturdayNight</td>\n",
       "      <td>Slight ChanceShowers thenPartly Cloudy</td>\n",
       "      <td>Low: 62 °F</td>\n",
       "      <td>Saturday Night: A 20 percent chance of showers...</td>\n",
       "    </tr>\n",
       "    <tr>\n",
       "      <th>6</th>\n",
       "      <td>Sunday</td>\n",
       "      <td>Mostly Sunny</td>\n",
       "      <td>High: 77 °F</td>\n",
       "      <td>Sunday: Mostly sunny, with a high near 77.</td>\n",
       "    </tr>\n",
       "    <tr>\n",
       "      <th>7</th>\n",
       "      <td>SundayNight</td>\n",
       "      <td>Mostly Clear</td>\n",
       "      <td>Low: 61 °F</td>\n",
       "      <td>Sunday Night: Mostly clear, with a low around 61.</td>\n",
       "    </tr>\n",
       "    <tr>\n",
       "      <th>8</th>\n",
       "      <td>ColumbusDay</td>\n",
       "      <td>Mostly Sunny</td>\n",
       "      <td>High: 79 °F</td>\n",
       "      <td>Columbus Day: Mostly sunny, with a high near 79.</td>\n",
       "    </tr>\n",
       "  </tbody>\n",
       "</table>\n",
       "</div>"
      ],
      "text/plain": [
       "          period                                      short_desc         temp  \\\n",
       "0          Today          ScatteredShowers thenScatteredT-storms  High: 76 °F   \n",
       "1        Tonight  ChanceT-storms thenChanceShowers andPatchy Fog   Low: 66 °F   \n",
       "2         Friday                     ShowersLikely andPatchy Fog  High: 76 °F   \n",
       "3    FridayNight                                  ChanceT-storms   Low: 64 °F   \n",
       "4       Saturday                                  ChanceT-storms  High: 75 °F   \n",
       "5  SaturdayNight          Slight ChanceShowers thenPartly Cloudy   Low: 62 °F   \n",
       "6         Sunday                                    Mostly Sunny  High: 77 °F   \n",
       "7    SundayNight                                    Mostly Clear   Low: 61 °F   \n",
       "8    ColumbusDay                                    Mostly Sunny  High: 79 °F   \n",
       "\n",
       "                                                desc  \n",
       "0  Today: Scattered showers, with thunderstorms a...  \n",
       "1  Tonight: A chance of showers and thunderstorms...  \n",
       "2  Friday: Showers likely, with thunderstorms als...  \n",
       "3  Friday Night: A 50 percent chance of showers a...  \n",
       "4  Saturday: A 40 percent chance of showers and t...  \n",
       "5  Saturday Night: A 20 percent chance of showers...  \n",
       "6         Sunday: Mostly sunny, with a high near 77.  \n",
       "7  Sunday Night: Mostly clear, with a low around 61.  \n",
       "8   Columbus Day: Mostly sunny, with a high near 79.  "
      ]
     },
     "execution_count": 59,
     "metadata": {},
     "output_type": "execute_result"
    }
   ],
   "source": [
    "import pandas as pd\n",
    "weather = pd.DataFrame({\n",
    "    \"period\": periods,\n",
    "    \"short_desc\": short_descs,\n",
    "    \"temp\": temps,\n",
    "    \"desc\":descs\n",
    "})\n",
    "weather"
   ]
  },
  {
   "cell_type": "code",
   "execution_count": 75,
   "metadata": {},
   "outputs": [
    {
     "name": "stdout",
     "output_type": "stream",
     "text": [
      "    0\n",
      "0  76\n",
      "1  66\n",
      "2  76\n",
      "3  64\n",
      "4  75\n",
      "5  62\n",
      "6  77\n",
      "7  61\n",
      "8  79\n"
     ]
    }
   ],
   "source": [
    "\n",
    "temp_nums = weather[\"temp\"].str.extract('(\\d+)')\n",
    "weather[\"temp_num\"] = temp_nums.astype('int')\n",
    "print(temp_nums)"
   ]
  },
  {
   "cell_type": "code",
   "execution_count": 76,
   "metadata": {},
   "outputs": [
    {
     "data": {
      "text/plain": [
       "70.66666666666667"
      ]
     },
     "execution_count": 76,
     "metadata": {},
     "output_type": "execute_result"
    }
   ],
   "source": [
    "weather[\"temp_num\"].mean()"
   ]
  },
  {
   "cell_type": "code",
   "execution_count": 77,
   "metadata": {},
   "outputs": [
    {
     "data": {
      "text/plain": [
       "0    False\n",
       "1     True\n",
       "2    False\n",
       "3     True\n",
       "4    False\n",
       "5     True\n",
       "6    False\n",
       "7     True\n",
       "8    False\n",
       "Name: temp, dtype: bool"
      ]
     },
     "execution_count": 77,
     "metadata": {},
     "output_type": "execute_result"
    }
   ],
   "source": [
    "is_night = weather[\"temp\"].str.contains(\"Low\")\n",
    "weather[\"is_night\"] = is_night\n",
    "is_night"
   ]
  },
  {
   "cell_type": "code",
   "execution_count": 78,
   "metadata": {},
   "outputs": [
    {
     "data": {
      "text/html": [
       "<div>\n",
       "<style scoped>\n",
       "    .dataframe tbody tr th:only-of-type {\n",
       "        vertical-align: middle;\n",
       "    }\n",
       "\n",
       "    .dataframe tbody tr th {\n",
       "        vertical-align: top;\n",
       "    }\n",
       "\n",
       "    .dataframe thead th {\n",
       "        text-align: right;\n",
       "    }\n",
       "</style>\n",
       "<table border=\"1\" class=\"dataframe\">\n",
       "  <thead>\n",
       "    <tr style=\"text-align: right;\">\n",
       "      <th></th>\n",
       "      <th>period</th>\n",
       "      <th>short_desc</th>\n",
       "      <th>temp</th>\n",
       "      <th>desc</th>\n",
       "      <th>temp_num</th>\n",
       "      <th>is_night</th>\n",
       "    </tr>\n",
       "  </thead>\n",
       "  <tbody>\n",
       "    <tr>\n",
       "      <th>1</th>\n",
       "      <td>Tonight</td>\n",
       "      <td>ChanceT-storms thenChanceShowers andPatchy Fog</td>\n",
       "      <td>Low: 66 °F</td>\n",
       "      <td>Tonight: A chance of showers and thunderstorms...</td>\n",
       "      <td>66</td>\n",
       "      <td>True</td>\n",
       "    </tr>\n",
       "    <tr>\n",
       "      <th>3</th>\n",
       "      <td>FridayNight</td>\n",
       "      <td>ChanceT-storms</td>\n",
       "      <td>Low: 64 °F</td>\n",
       "      <td>Friday Night: A 50 percent chance of showers a...</td>\n",
       "      <td>64</td>\n",
       "      <td>True</td>\n",
       "    </tr>\n",
       "    <tr>\n",
       "      <th>5</th>\n",
       "      <td>SaturdayNight</td>\n",
       "      <td>Slight ChanceShowers thenPartly Cloudy</td>\n",
       "      <td>Low: 62 °F</td>\n",
       "      <td>Saturday Night: A 20 percent chance of showers...</td>\n",
       "      <td>62</td>\n",
       "      <td>True</td>\n",
       "    </tr>\n",
       "    <tr>\n",
       "      <th>7</th>\n",
       "      <td>SundayNight</td>\n",
       "      <td>Mostly Clear</td>\n",
       "      <td>Low: 61 °F</td>\n",
       "      <td>Sunday Night: Mostly clear, with a low around 61.</td>\n",
       "      <td>61</td>\n",
       "      <td>True</td>\n",
       "    </tr>\n",
       "  </tbody>\n",
       "</table>\n",
       "</div>"
      ],
      "text/plain": [
       "          period                                      short_desc        temp  \\\n",
       "1        Tonight  ChanceT-storms thenChanceShowers andPatchy Fog  Low: 66 °F   \n",
       "3    FridayNight                                  ChanceT-storms  Low: 64 °F   \n",
       "5  SaturdayNight          Slight ChanceShowers thenPartly Cloudy  Low: 62 °F   \n",
       "7    SundayNight                                    Mostly Clear  Low: 61 °F   \n",
       "\n",
       "                                                desc  temp_num  is_night  \n",
       "1  Tonight: A chance of showers and thunderstorms...        66      True  \n",
       "3  Friday Night: A 50 percent chance of showers a...        64      True  \n",
       "5  Saturday Night: A 20 percent chance of showers...        62      True  \n",
       "7  Sunday Night: Mostly clear, with a low around 61.        61      True  "
      ]
     },
     "execution_count": 78,
     "metadata": {},
     "output_type": "execute_result"
    }
   ],
   "source": [
    "weather[is_night]"
   ]
  },
  {
   "cell_type": "code",
   "execution_count": null,
   "metadata": {},
   "outputs": [],
   "source": []
  }
 ],
 "metadata": {
  "kernelspec": {
   "display_name": "Python 3",
   "language": "python",
   "name": "python3"
  },
  "language_info": {
   "codemirror_mode": {
    "name": "ipython",
    "version": 3
   },
   "file_extension": ".py",
   "mimetype": "text/x-python",
   "name": "python",
   "nbconvert_exporter": "python",
   "pygments_lexer": "ipython3",
   "version": "3.8.5"
  }
 },
 "nbformat": 4,
 "nbformat_minor": 4
}
